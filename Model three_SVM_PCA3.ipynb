{
 "cells": [
  {
   "cell_type": "code",
   "execution_count": 28,
   "metadata": {},
   "outputs": [],
   "source": [
    "import numpy as np\n",
    "import pandas as pd\n",
    "from sklearn import model_selection,metrics, svm      #grid_search,\n",
    "from sklearn.model_selection import GridSearchCV\n",
    "import numpy as np\n",
    "import pandas as pd\n",
    "import seaborn as sns\n",
    "import matplotlib.pyplot as plt\n",
    "import matplotlib as mpl\n",
    "import warnings\n",
    "warnings.filterwarnings('ignore')"
   ]
  },
  {
   "cell_type": "markdown",
   "metadata": {},
   "source": [
    "# Data preprocessing"
   ]
  },
  {
   "cell_type": "code",
   "execution_count": 29,
   "metadata": {},
   "outputs": [
    {
     "name": "stdout",
     "output_type": "stream",
     "text": [
      "                                                 msno  \\\n",
      "4123756  eJjaRMWBbDgJxN3ULkEnGo9sAORvCK5wXKqBvQ5ij9o=   \n",
      "3452721  vKPEy262SOZEffXqH/SxV16uPB92K8PT1loJFVjOFDQ=   \n",
      "3117360  TaeFFeRHzNKPuFmW2GhL8w15lsr7GIfebYSuI6GuxEQ=   \n",
      "1239520  paFnGsEMMGPzXdA0Lu5wbdygFvBw4P4GDRNs+ywUKVg=   \n",
      "2679808  eEXCWfiqSWLeUvnsxJp1RTyEpm/nTDhwO6jRAdjCjIk=   \n",
      "...                                               ...   \n",
      "7142876  6cmJO39t5oDkzf+N2tiMD6/oZSVRNo51KZL3XBL5IrU=   \n",
      "6222143  +b5czs//RuOa1zDIGP+fflps9sE5+aIhZilQXdOSjiE=   \n",
      "48687    lc8/HRnjiaPsc/cZ6o6f6uKCAwn1opP43648Mx5dSe4=   \n",
      "3567057  aB3wW6OJrPZ23kFxDGTJA0Pa2Mgq4DliDNCvsuPXq4k=   \n",
      "3330075  kRpm+8tOqiVaVLpWICbzUS02RmHKO+tZGjpYokjn4L0=   \n",
      "\n",
      "                                              song_id source_system_tab  \\\n",
      "4123756  P+082VS6p8s6DthlZf7XfjkiX/F/0QAyRjVmsiGQN2s=        my library   \n",
      "3452721  SHV52/0W8kZcf3uJZF9+ZP3S5vu2RO4WNGhZ8qQHulU=          discover   \n",
      "3117360  opkASC5fIXDnGZdkkNt4C+TGsXbo4F80CTG+pD8aEoU=        my library   \n",
      "1239520  TdfOY1S6hmcLgh2kxCLuylP63BKCeKlwCig6mHkchfE=        my library   \n",
      "2679808  s33zAAbsWF7Sg8k0w3ur0dUFc+seSBCNJZLMM8a2B8g=        my library   \n",
      "...                                               ...               ...   \n",
      "7142876  sIVXwU5pp64Fdx/yesGXMXjpRYpOaQFORnmeLQZeqks=        my library   \n",
      "6222143  ezPYgPtg3gEPJope9M2DlYKYfPpA53Md4F8RVQFGUYM=          discover   \n",
      "48687    w4Zku7HxtkAKl/BB8H81ZfWOXwnnmVbZBvFZeRPuRUU=        my library   \n",
      "3567057  RPWHLpkbHblsSqa8ZPqD1eNBDYYMRKGjSJn2lUDZAE4=          discover   \n",
      "3330075  G/4+VCRLpfjQJ4SAwMDcf+W8PTw0eOBRgFvg4fHUOO8=        my library   \n",
      "\n",
      "          source_screen_name          source_type  target  \n",
      "4123756  Local playlist more        local-library       0  \n",
      "3452721     Discover Feature  song-based-playlist       1  \n",
      "3117360  Local playlist more       local-playlist       1  \n",
      "1239520  Local playlist more        local-library       0  \n",
      "2679808  Local playlist more       local-playlist       1  \n",
      "...                      ...                  ...     ...  \n",
      "7142876  Local playlist more        local-library       1  \n",
      "6222143                  NaN  song-based-playlist       0  \n",
      "48687    Local playlist more        local-library       1  \n",
      "3567057         Discover New      online-playlist       1  \n",
      "3330075  Local playlist more        local-library       1  \n",
      "\n",
      "[7377 rows x 6 columns]\n"
     ]
    }
   ],
   "source": [
    "#read training data\n",
    "df = pd.read_csv('train.csv')\n",
    "df = df.sample(frac=0.001)           #random select 0.1% of rows\n",
    "print(df)"
   ]
  },
  {
   "cell_type": "code",
   "execution_count": 30,
   "metadata": {},
   "outputs": [
    {
     "name": "stdout",
     "output_type": "stream",
     "text": [
      "                                              song_id  song_length genre_ids  \\\n",
      "0        CXoTN1eb7AI+DntdU1vbcwGRV4SCIDxZu+YD8JP8r4E=       247640       465   \n",
      "1        o0kFgae9QtnYgRkVPqLJwa05zIhRlUjfF7O1tDw0ZDU=       197328       444   \n",
      "2        DwVvVurfpuz+XPuFvucclVQEyPqcpUkHR0ne1RQzPs0=       231781       465   \n",
      "3        dKMBWoZyScdxSkihKG+Vf47nc18N9q4m58+b4e7dSSE=       273554       465   \n",
      "4        W3bqWd3T+VeHFzHAUfARgW9AvVRaF4N5Yzm4Mr6Eo/o=       140329       726   \n",
      "...                                               ...          ...       ...   \n",
      "2296315  lg6rn7eV/ZNg0+P+x77kHUL7GDMfoL4eMtXxncseLNA=        20192       958   \n",
      "2296316  nXi1lrSJe+gLoTTNky7If0mNPrIyCQCLwagwR6XopGU=       273391       465   \n",
      "2296317  9KxSvIjbJyJzfEVWnkMbgR6dyn6d54ot0N5FKyKqii8=       445172      1609   \n",
      "2296318  UO8Y2MR2sjOn2q/Tp8/lzZTGKmLEvwZ20oWanG4XnYc=       172669       465   \n",
      "2296319  V/9qPSUOGT0FeIGBhDIZRRz5Y5yyjdXC2Z/+bJExo5s=       270466       829   \n",
      "\n",
      "               artist_name                            composer     lyricist  \\\n",
      "0         張信哲 (Jeff Chang)                                  董貞          何啟弘   \n",
      "1                BLACKPINK  TEDDY|  FUTURE BOUNCE|  Bekuh BOOM        TEDDY   \n",
      "2             SUPER JUNIOR                                 NaN          NaN   \n",
      "3                    S.H.E                                 湯小康          徐世珍   \n",
      "4                     貴族精選                         Traditional  Traditional   \n",
      "...                    ...                                 ...          ...   \n",
      "2296315  Catherine Collard         Robert Schumann (1810-1856)          NaN   \n",
      "2296316  紀文惠 (Justine Chi)                                 NaN          NaN   \n",
      "2296317    Various Artists                                 NaN          NaN   \n",
      "2296318  Peter Paul & Mary                                 NaN          NaN   \n",
      "2296319      Kim Robertson                                 NaN          NaN   \n",
      "\n",
      "         language  \n",
      "0             3.0  \n",
      "1            31.0  \n",
      "2            31.0  \n",
      "3             3.0  \n",
      "4            52.0  \n",
      "...           ...  \n",
      "2296315      -1.0  \n",
      "2296316       3.0  \n",
      "2296317      52.0  \n",
      "2296318      52.0  \n",
      "2296319      52.0  \n",
      "\n",
      "[2296320 rows x 7 columns]\n"
     ]
    }
   ],
   "source": [
    "#using songs and members dataset\n",
    "songs = pd.read_csv('songs.csv')\n",
    "print(songs)\n",
    "df = pd.merge(df, songs, on='song_id', how='left') #merge the dataframe by songs_id\n",
    "del songs                    #delete the variables song"
   ]
  },
  {
   "cell_type": "code",
   "execution_count": 31,
   "metadata": {},
   "outputs": [
    {
     "name": "stdout",
     "output_type": "stream",
     "text": [
      "                                               msno  city  bd gender  \\\n",
      "0      XQxgAYj3klVKjR3oxPPXYYFp4soD4TuBghkhMTD4oTw=     1   0    NaN   \n",
      "1      UizsfmJb9mV54qE9hCYyU07Va97c0lCRLEQX3ae+ztM=     1   0    NaN   \n",
      "2      D8nEhsIOBSoE6VthTaqDX8U6lqjJ7dLdr72mOyLya2A=     1   0    NaN   \n",
      "3      mCuD+tZ1hERA/o5GPqk38e041J8ZsBaLcu7nGoIIvhI=     1   0    NaN   \n",
      "4      q4HRBfVSssAFS9iRfxWrohxuk9kCYMKjHOEagUMV6rQ=     1   0    NaN   \n",
      "...                                             ...   ...  ..    ...   \n",
      "34398  Wwd/cudKVuLJ3txRVxlg2Zaeliu+LRUfiBmfrnxhRCY=     1   0    NaN   \n",
      "34399  g3JGnJX6Hg50lFbrNWfsHwCUmApIkiv2M8sXOaeXoIQ=     4  18   male   \n",
      "34400  IMaPMJuyN+ip9Vqi+z2XuXbFAP2kbHr+EvvCNkFfj+o=     1   0    NaN   \n",
      "34401  WAnCAJjUty9Stv8yKtV7ZC7PN+ilOy5FX3aIJgGPANM=     1   0    NaN   \n",
      "34402  xH8KpzKGeNNq6dOvy51c/8VzqOiGG+m6vabhsPSDHX4=     1   0    NaN   \n",
      "\n",
      "       registered_via  registration_init_time  expiration_date  \n",
      "0                   7                20110820         20170920  \n",
      "1                   7                20150628         20170622  \n",
      "2                   4                20160411         20170712  \n",
      "3                   9                20150906         20150907  \n",
      "4                   4                20170126         20170613  \n",
      "...               ...                     ...              ...  \n",
      "34398               7                20131111         20170910  \n",
      "34399               3                20141024         20170518  \n",
      "34400               7                20130802         20170908  \n",
      "34401               7                20151020         20170920  \n",
      "34402               4                20160815         20160818  \n",
      "\n",
      "[34403 rows x 7 columns]\n"
     ]
    }
   ],
   "source": [
    "# Load and join songs data\n",
    "members = pd.read_csv('members.csv')\n",
    "print(members)\n",
    "df = pd.merge(df, members, on='msno', how='left')   #merge the dataframe by msno\n",
    "del members"
   ]
  },
  {
   "cell_type": "code",
   "execution_count": 32,
   "metadata": {},
   "outputs": [
    {
     "data": {
      "text/plain": [
       "msno                      0.000000\n",
       "song_id                   0.000000\n",
       "source_system_tab         0.004473\n",
       "source_screen_name        0.058154\n",
       "source_type               0.003660\n",
       "target                    0.000000\n",
       "song_length               0.000136\n",
       "genre_ids                 0.015589\n",
       "artist_name               0.000136\n",
       "composer                  0.225024\n",
       "lyricist                  0.429443\n",
       "language                  0.000136\n",
       "city                      0.000000\n",
       "bd                        0.000000\n",
       "gender                    0.394469\n",
       "registered_via            0.000000\n",
       "registration_init_time    0.000000\n",
       "expiration_date           0.000000\n",
       "dtype: float64"
      ]
     },
     "execution_count": 32,
     "metadata": {},
     "output_type": "execute_result"
    }
   ],
   "source": [
    "#the percentage of null values\n",
    "df.isnull().sum()/df.isnull().count()"
   ]
  },
  {
   "cell_type": "code",
   "execution_count": 33,
   "metadata": {},
   "outputs": [],
   "source": [
    "#removing NA values from df\n",
    "\n",
    "for i in df.select_dtypes(include=['object']).columns:\n",
    "    df[i][df[i].isnull()] = 'unknown'\n",
    "df = df.fillna(value=0)"
   ]
  },
  {
   "cell_type": "code",
   "execution_count": 34,
   "metadata": {},
   "outputs": [],
   "source": [
    "# seperate the column of registration_init_date with month, year and day\n",
    "\n",
    "df.registration_init_time = pd.to_datetime(df.registration_init_time, format='%Y%m%d', errors='ignore')\n",
    "df['registration_init_time_year'] = df['registration_init_time'].dt.year\n",
    "df['registration_init_time_month'] = df['registration_init_time'].dt.month\n",
    "df['registration_init_time_day'] = df['registration_init_time'].dt.day\n",
    "\n",
    "\n",
    "# seperate the column of expiration date using year, date, month\n",
    "\n",
    "df.expiration_date = pd.to_datetime(df.expiration_date,  format='%Y%m%d', errors='ignore')\n",
    "df['expiration_date_year'] = df['expiration_date'].dt.year\n",
    "df['expiration_date_month'] = df['expiration_date'].dt.month\n",
    "df['expiration_date_day'] = df['expiration_date'].dt.day\n"
   ]
  },
  {
   "cell_type": "code",
   "execution_count": 35,
   "metadata": {},
   "outputs": [],
   "source": [
    "# convert into categorical values\n",
    "\n",
    "df['registration_init_time'] = df['registration_init_time'].astype('category')\n",
    "df['expiration_date'] = df['expiration_date'].astype('category')"
   ]
  },
  {
   "cell_type": "code",
   "execution_count": 36,
   "metadata": {},
   "outputs": [
    {
     "name": "stdout",
     "output_type": "stream",
     "text": [
      "msno\n",
      "song_id\n",
      "source_system_tab\n",
      "source_screen_name\n",
      "source_type\n",
      "genre_ids\n",
      "artist_name\n",
      "composer\n",
      "lyricist\n",
      "gender\n"
     ]
    }
   ],
   "source": [
    "# converting into categorcial values\n",
    "for col in df.select_dtypes(include=['object']).columns:\n",
    "    print(col)\n",
    "    #df[col] = df[col].astype('category')"
   ]
  },
  {
   "cell_type": "code",
   "execution_count": 37,
   "metadata": {},
   "outputs": [
    {
     "data": {
      "text/html": [
       "<div>\n",
       "<style scoped>\n",
       "    .dataframe tbody tr th:only-of-type {\n",
       "        vertical-align: middle;\n",
       "    }\n",
       "\n",
       "    .dataframe tbody tr th {\n",
       "        vertical-align: top;\n",
       "    }\n",
       "\n",
       "    .dataframe thead th {\n",
       "        text-align: right;\n",
       "    }\n",
       "</style>\n",
       "<table border=\"1\" class=\"dataframe\">\n",
       "  <thead>\n",
       "    <tr style=\"text-align: right;\">\n",
       "      <th></th>\n",
       "      <th>msno</th>\n",
       "      <th>song_id</th>\n",
       "      <th>source_system_tab</th>\n",
       "      <th>source_screen_name</th>\n",
       "      <th>source_type</th>\n",
       "      <th>genre_ids</th>\n",
       "      <th>artist_name</th>\n",
       "      <th>composer</th>\n",
       "      <th>lyricist</th>\n",
       "      <th>gender</th>\n",
       "    </tr>\n",
       "  </thead>\n",
       "  <tbody>\n",
       "    <tr>\n",
       "      <td>0</td>\n",
       "      <td>eJjaRMWBbDgJxN3ULkEnGo9sAORvCK5wXKqBvQ5ij9o=</td>\n",
       "      <td>P+082VS6p8s6DthlZf7XfjkiX/F/0QAyRjVmsiGQN2s=</td>\n",
       "      <td>my library</td>\n",
       "      <td>Local playlist more</td>\n",
       "      <td>local-library</td>\n",
       "      <td>465</td>\n",
       "      <td>Rachel Platten</td>\n",
       "      <td>Rachel Platten|Dave Bassett</td>\n",
       "      <td>Rachel Platten|Dave Bassett</td>\n",
       "      <td>unknown</td>\n",
       "    </tr>\n",
       "    <tr>\n",
       "      <td>1</td>\n",
       "      <td>vKPEy262SOZEffXqH/SxV16uPB92K8PT1loJFVjOFDQ=</td>\n",
       "      <td>SHV52/0W8kZcf3uJZF9+ZP3S5vu2RO4WNGhZ8qQHulU=</td>\n",
       "      <td>discover</td>\n",
       "      <td>Discover Feature</td>\n",
       "      <td>song-based-playlist</td>\n",
       "      <td>465</td>\n",
       "      <td>G.E.M.鄧紫棋</td>\n",
       "      <td>G.E.M. 鄧紫棋</td>\n",
       "      <td>G.E.M. 鄧紫棋</td>\n",
       "      <td>unknown</td>\n",
       "    </tr>\n",
       "    <tr>\n",
       "      <td>2</td>\n",
       "      <td>TaeFFeRHzNKPuFmW2GhL8w15lsr7GIfebYSuI6GuxEQ=</td>\n",
       "      <td>opkASC5fIXDnGZdkkNt4C+TGsXbo4F80CTG+pD8aEoU=</td>\n",
       "      <td>my library</td>\n",
       "      <td>Local playlist more</td>\n",
       "      <td>local-playlist</td>\n",
       "      <td>1180</td>\n",
       "      <td>SPICY CHOCOLATE</td>\n",
       "      <td>DJ CONTROLER| HIEDA| U.M.E.D.Y.</td>\n",
       "      <td>unknown</td>\n",
       "      <td>male</td>\n",
       "    </tr>\n",
       "    <tr>\n",
       "      <td>3</td>\n",
       "      <td>paFnGsEMMGPzXdA0Lu5wbdygFvBw4P4GDRNs+ywUKVg=</td>\n",
       "      <td>TdfOY1S6hmcLgh2kxCLuylP63BKCeKlwCig6mHkchfE=</td>\n",
       "      <td>my library</td>\n",
       "      <td>Local playlist more</td>\n",
       "      <td>local-library</td>\n",
       "      <td>465</td>\n",
       "      <td>張韶涵 (Angela Chang)</td>\n",
       "      <td>陳懷恩</td>\n",
       "      <td>桃子+陳懷恩</td>\n",
       "      <td>unknown</td>\n",
       "    </tr>\n",
       "    <tr>\n",
       "      <td>4</td>\n",
       "      <td>eEXCWfiqSWLeUvnsxJp1RTyEpm/nTDhwO6jRAdjCjIk=</td>\n",
       "      <td>s33zAAbsWF7Sg8k0w3ur0dUFc+seSBCNJZLMM8a2B8g=</td>\n",
       "      <td>my library</td>\n",
       "      <td>Local playlist more</td>\n",
       "      <td>local-playlist</td>\n",
       "      <td>465</td>\n",
       "      <td>Various Artists</td>\n",
       "      <td>Gregg Alexander|Danielle Brisebois|Nick Lashle...</td>\n",
       "      <td>unknown</td>\n",
       "      <td>female</td>\n",
       "    </tr>\n",
       "    <tr>\n",
       "      <td>...</td>\n",
       "      <td>...</td>\n",
       "      <td>...</td>\n",
       "      <td>...</td>\n",
       "      <td>...</td>\n",
       "      <td>...</td>\n",
       "      <td>...</td>\n",
       "      <td>...</td>\n",
       "      <td>...</td>\n",
       "      <td>...</td>\n",
       "      <td>...</td>\n",
       "    </tr>\n",
       "    <tr>\n",
       "      <td>7372</td>\n",
       "      <td>6cmJO39t5oDkzf+N2tiMD6/oZSVRNo51KZL3XBL5IrU=</td>\n",
       "      <td>sIVXwU5pp64Fdx/yesGXMXjpRYpOaQFORnmeLQZeqks=</td>\n",
       "      <td>my library</td>\n",
       "      <td>Local playlist more</td>\n",
       "      <td>local-library</td>\n",
       "      <td>458</td>\n",
       "      <td>田馥甄 (Hebe)</td>\n",
       "      <td>鄭楠</td>\n",
       "      <td>藍小邪</td>\n",
       "      <td>male</td>\n",
       "    </tr>\n",
       "    <tr>\n",
       "      <td>7373</td>\n",
       "      <td>+b5czs//RuOa1zDIGP+fflps9sE5+aIhZilQXdOSjiE=</td>\n",
       "      <td>ezPYgPtg3gEPJope9M2DlYKYfPpA53Md4F8RVQFGUYM=</td>\n",
       "      <td>discover</td>\n",
       "      <td>unknown</td>\n",
       "      <td>song-based-playlist</td>\n",
       "      <td>465</td>\n",
       "      <td>劉德華 (Andy Lau)</td>\n",
       "      <td>Jone Chui| Xu Ji Zong</td>\n",
       "      <td>Andy Lau| Jone Chui| Xu Ji Zong</td>\n",
       "      <td>female</td>\n",
       "    </tr>\n",
       "    <tr>\n",
       "      <td>7374</td>\n",
       "      <td>lc8/HRnjiaPsc/cZ6o6f6uKCAwn1opP43648Mx5dSe4=</td>\n",
       "      <td>w4Zku7HxtkAKl/BB8H81ZfWOXwnnmVbZBvFZeRPuRUU=</td>\n",
       "      <td>my library</td>\n",
       "      <td>Local playlist more</td>\n",
       "      <td>local-library</td>\n",
       "      <td>444</td>\n",
       "      <td>BANGTAN BOYS</td>\n",
       "      <td>Pdogg| Rap Monster| Suga| J-hope| \"hitman\"bang...</td>\n",
       "      <td>unknown</td>\n",
       "      <td>male</td>\n",
       "    </tr>\n",
       "    <tr>\n",
       "      <td>7375</td>\n",
       "      <td>aB3wW6OJrPZ23kFxDGTJA0Pa2Mgq4DliDNCvsuPXq4k=</td>\n",
       "      <td>RPWHLpkbHblsSqa8ZPqD1eNBDYYMRKGjSJn2lUDZAE4=</td>\n",
       "      <td>discover</td>\n",
       "      <td>Discover New</td>\n",
       "      <td>online-playlist</td>\n",
       "      <td>458</td>\n",
       "      <td>鄧養天 (Issac Dang)</td>\n",
       "      <td>黃韻仁</td>\n",
       "      <td>小寒</td>\n",
       "      <td>female</td>\n",
       "    </tr>\n",
       "    <tr>\n",
       "      <td>7376</td>\n",
       "      <td>kRpm+8tOqiVaVLpWICbzUS02RmHKO+tZGjpYokjn4L0=</td>\n",
       "      <td>G/4+VCRLpfjQJ4SAwMDcf+W8PTw0eOBRgFvg4fHUOO8=</td>\n",
       "      <td>my library</td>\n",
       "      <td>Local playlist more</td>\n",
       "      <td>local-library</td>\n",
       "      <td>465</td>\n",
       "      <td>林芯儀 (Shennio Lin)</td>\n",
       "      <td>朱國豪</td>\n",
       "      <td>李偉傑</td>\n",
       "      <td>unknown</td>\n",
       "    </tr>\n",
       "  </tbody>\n",
       "</table>\n",
       "<p>7377 rows × 10 columns</p>\n",
       "</div>"
      ],
      "text/plain": [
       "                                              msno  \\\n",
       "0     eJjaRMWBbDgJxN3ULkEnGo9sAORvCK5wXKqBvQ5ij9o=   \n",
       "1     vKPEy262SOZEffXqH/SxV16uPB92K8PT1loJFVjOFDQ=   \n",
       "2     TaeFFeRHzNKPuFmW2GhL8w15lsr7GIfebYSuI6GuxEQ=   \n",
       "3     paFnGsEMMGPzXdA0Lu5wbdygFvBw4P4GDRNs+ywUKVg=   \n",
       "4     eEXCWfiqSWLeUvnsxJp1RTyEpm/nTDhwO6jRAdjCjIk=   \n",
       "...                                            ...   \n",
       "7372  6cmJO39t5oDkzf+N2tiMD6/oZSVRNo51KZL3XBL5IrU=   \n",
       "7373  +b5czs//RuOa1zDIGP+fflps9sE5+aIhZilQXdOSjiE=   \n",
       "7374  lc8/HRnjiaPsc/cZ6o6f6uKCAwn1opP43648Mx5dSe4=   \n",
       "7375  aB3wW6OJrPZ23kFxDGTJA0Pa2Mgq4DliDNCvsuPXq4k=   \n",
       "7376  kRpm+8tOqiVaVLpWICbzUS02RmHKO+tZGjpYokjn4L0=   \n",
       "\n",
       "                                           song_id source_system_tab  \\\n",
       "0     P+082VS6p8s6DthlZf7XfjkiX/F/0QAyRjVmsiGQN2s=        my library   \n",
       "1     SHV52/0W8kZcf3uJZF9+ZP3S5vu2RO4WNGhZ8qQHulU=          discover   \n",
       "2     opkASC5fIXDnGZdkkNt4C+TGsXbo4F80CTG+pD8aEoU=        my library   \n",
       "3     TdfOY1S6hmcLgh2kxCLuylP63BKCeKlwCig6mHkchfE=        my library   \n",
       "4     s33zAAbsWF7Sg8k0w3ur0dUFc+seSBCNJZLMM8a2B8g=        my library   \n",
       "...                                            ...               ...   \n",
       "7372  sIVXwU5pp64Fdx/yesGXMXjpRYpOaQFORnmeLQZeqks=        my library   \n",
       "7373  ezPYgPtg3gEPJope9M2DlYKYfPpA53Md4F8RVQFGUYM=          discover   \n",
       "7374  w4Zku7HxtkAKl/BB8H81ZfWOXwnnmVbZBvFZeRPuRUU=        my library   \n",
       "7375  RPWHLpkbHblsSqa8ZPqD1eNBDYYMRKGjSJn2lUDZAE4=          discover   \n",
       "7376  G/4+VCRLpfjQJ4SAwMDcf+W8PTw0eOBRgFvg4fHUOO8=        my library   \n",
       "\n",
       "       source_screen_name          source_type genre_ids         artist_name  \\\n",
       "0     Local playlist more        local-library       465      Rachel Platten   \n",
       "1        Discover Feature  song-based-playlist       465           G.E.M.鄧紫棋   \n",
       "2     Local playlist more       local-playlist      1180     SPICY CHOCOLATE   \n",
       "3     Local playlist more        local-library       465  張韶涵 (Angela Chang)   \n",
       "4     Local playlist more       local-playlist       465     Various Artists   \n",
       "...                   ...                  ...       ...                 ...   \n",
       "7372  Local playlist more        local-library       458          田馥甄 (Hebe)   \n",
       "7373              unknown  song-based-playlist       465      劉德華 (Andy Lau)   \n",
       "7374  Local playlist more        local-library       444        BANGTAN BOYS   \n",
       "7375         Discover New      online-playlist       458    鄧養天 (Issac Dang)   \n",
       "7376  Local playlist more        local-library       465   林芯儀 (Shennio Lin)   \n",
       "\n",
       "                                               composer  \\\n",
       "0                           Rachel Platten|Dave Bassett   \n",
       "1                                            G.E.M. 鄧紫棋   \n",
       "2                       DJ CONTROLER| HIEDA| U.M.E.D.Y.   \n",
       "3                                                   陳懷恩   \n",
       "4     Gregg Alexander|Danielle Brisebois|Nick Lashle...   \n",
       "...                                                 ...   \n",
       "7372                                                 鄭楠   \n",
       "7373                              Jone Chui| Xu Ji Zong   \n",
       "7374  Pdogg| Rap Monster| Suga| J-hope| \"hitman\"bang...   \n",
       "7375                                                黃韻仁   \n",
       "7376                                                朱國豪   \n",
       "\n",
       "                             lyricist   gender  \n",
       "0         Rachel Platten|Dave Bassett  unknown  \n",
       "1                          G.E.M. 鄧紫棋  unknown  \n",
       "2                             unknown     male  \n",
       "3                              桃子+陳懷恩  unknown  \n",
       "4                             unknown   female  \n",
       "...                               ...      ...  \n",
       "7372                              藍小邪     male  \n",
       "7373  Andy Lau| Jone Chui| Xu Ji Zong   female  \n",
       "7374                          unknown     male  \n",
       "7375                               小寒   female  \n",
       "7376                              李偉傑  unknown  \n",
       "\n",
       "[7377 rows x 10 columns]"
      ]
     },
     "execution_count": 37,
     "metadata": {},
     "output_type": "execute_result"
    }
   ],
   "source": [
    "df.select_dtypes(include=['object'])"
   ]
  },
  {
   "cell_type": "code",
   "execution_count": 38,
   "metadata": {},
   "outputs": [],
   "source": [
    "# converting into categorcial values\n",
    "for col in df.select_dtypes(include=['object']).columns:\n",
    "    df[col] = df[col].astype('category')"
   ]
  },
  {
   "cell_type": "code",
   "execution_count": 39,
   "metadata": {},
   "outputs": [],
   "source": [
    "# encoding of categorical values\n",
    "for col in df.select_dtypes(include=['category']).columns:\n",
    "    df[col] = df[col].cat.codes\n",
    "df = df.drop(['expiration_date', 'lyricist'], 1)"
   ]
  },
  {
   "cell_type": "markdown",
   "metadata": {},
   "source": [
    "# Data dimension reduction"
   ]
  },
  {
   "cell_type": "code",
   "execution_count": 40,
   "metadata": {},
   "outputs": [
    {
     "data": {
      "text/plain": [
       "PCA(copy=True, iterated_power='auto', n_components=3, random_state=None,\n",
       "    svd_solver='auto', tol=0.0, whiten=False)"
      ]
     },
     "execution_count": 40,
     "metadata": {},
     "output_type": "execute_result"
    }
   ],
   "source": [
    "#implementing PCA\n",
    "\n",
    "import numpy as np\n",
    "from sklearn.decomposition import PCA\n",
    "\n",
    "pca = PCA(n_components=3)\n",
    "pca.fit(df[df.columns[df.columns != 'target']]) "
   ]
  },
  {
   "cell_type": "markdown",
   "metadata": {},
   "source": [
    "# Training via SVM"
   ]
  },
  {
   "cell_type": "code",
   "execution_count": 41,
   "metadata": {},
   "outputs": [
    {
     "data": {
      "text/plain": [
       "SVC(C=1.0, cache_size=200, class_weight=None, coef0=0.0,\n",
       "    decision_function_shape='ovr', degree=3, gamma='auto_deprecated',\n",
       "    kernel='rbf', max_iter=-1, probability=False, random_state=None,\n",
       "    shrinking=True, tol=0.001, verbose=False)"
      ]
     },
     "execution_count": 41,
     "metadata": {},
     "output_type": "execute_result"
    }
   ],
   "source": [
    "# Model with the best estimator\n",
    "model = svm.SVC()\n",
    "model.fit(df[df.columns[df.columns != 'target']], df.target)    "
   ]
  },
  {
   "cell_type": "code",
   "execution_count": 42,
   "metadata": {},
   "outputs": [],
   "source": [
    "from sklearn.model_selection import KFold\n",
    "kf = KFold(n_splits=3)\n",
    "\n",
    "model = svm.SVC()\n",
    "for train_indices,val_indices in kf.split(df) :\n",
    "    model.fit(df.drop(['target'],axis=1).loc[train_indices,:],df.loc[train_indices,'target'])"
   ]
  },
  {
   "cell_type": "code",
   "execution_count": 43,
   "metadata": {},
   "outputs": [],
   "source": [
    "X_array=df['target'].values"
   ]
  },
  {
   "cell_type": "code",
   "execution_count": 44,
   "metadata": {},
   "outputs": [
    {
     "data": {
      "text/plain": [
       "0.8260810627626406"
      ]
     },
     "execution_count": 44,
     "metadata": {},
     "output_type": "execute_result"
    }
   ],
   "source": [
    "model.score(df[df.columns[df.columns != 'target']], df.target)      #training accuracy"
   ]
  },
  {
   "cell_type": "markdown",
   "metadata": {},
   "source": [
    "# Data preprocessing for Testing set"
   ]
  },
  {
   "cell_type": "code",
   "execution_count": 45,
   "metadata": {},
   "outputs": [],
   "source": [
    "df_test=pd.read_csv('test.csv')\n",
    "\n",
    "songs = pd.read_csv('songs.csv')\n",
    "df_test = pd.merge(df_test, songs, on='song_id', how='left')\n",
    "del songs\n",
    "\n",
    "# Load and join songs data\n",
    "members = pd.read_csv('members.csv')\n",
    "df_test = pd.merge(df_test, members, on='msno', how='left')\n",
    "del members\n",
    "\n",
    "df_test.isnull().sum()/df_test.isnull().count()*100\n",
    "\n",
    "#replace NA\n",
    "for i in df_test.select_dtypes(include=['object']).columns:\n",
    "    df_test[i][df_test[i].isnull()] = 'unknown'\n",
    "df_test = df_test.fillna(value=0)\n",
    "\n",
    "df_test.registration_init_time = pd.to_datetime(df_test.registration_init_time, format='%Y%m%d', errors='ignore')\n",
    "df_test['registration_init_time_year'] = df_test['registration_init_time'].dt.year\n",
    "df_test['registration_init_time_month'] = df_test['registration_init_time'].dt.month\n",
    "df_test['registration_init_time_day'] = df_test['registration_init_time'].dt.day\n",
    "\n",
    "# expiration_date\n",
    "df_test.expiration_date = pd.to_datetime(df_test.expiration_date,  format='%Y%m%d', errors='ignore')\n",
    "df_test['expiration_date_year'] = df_test['expiration_date'].dt.year\n",
    "df_test['expiration_date_month'] = df_test['expiration_date'].dt.month\n",
    "df_test['expiration_date_day'] = df_test['expiration_date'].dt.day\n",
    "\n",
    "df_test['registration_init_time'] = df_test['registration_init_time'].astype('category')\n",
    "df_test['expiration_date'] = df_test['expiration_date'].astype('category')\n",
    "\n",
    "# Object data to category\n",
    "for col in df_test.select_dtypes(include=['object']).columns:\n",
    "    df_test[col] = df_test[col].astype('category')\n",
    "    \n",
    "# Encoding categorical features\n",
    "for col in df_test.select_dtypes(include=['category']).columns:\n",
    "    df_test[col] = df_test[col].cat.codes"
   ]
  },
  {
   "cell_type": "code",
   "execution_count": 46,
   "metadata": {},
   "outputs": [],
   "source": [
    "df_test = df_test.drop(['expiration_date', 'lyricist'], 1)"
   ]
  },
  {
   "cell_type": "code",
   "execution_count": 47,
   "metadata": {},
   "outputs": [],
   "source": [
    "predictions=np.zeros(shape=[len(df_test)])\n",
    "predictions+=model.predict(df_test.drop(['id'],axis=1))"
   ]
  },
  {
   "cell_type": "code",
   "execution_count": 48,
   "metadata": {},
   "outputs": [],
   "source": [
    "predictions = predictions/3\n",
    "\n",
    "submission = pd.read_csv('sample_submission.csv')\n",
    "\n",
    "submission.target=predictions\n",
    "submission.to_csv('svm.csv',index=False)"
   ]
  },
  {
   "cell_type": "code",
   "execution_count": 49,
   "metadata": {},
   "outputs": [],
   "source": [
    "length=df['target'].count()\n",
    "split=0.3\n",
    "test=df[int(length*(1-split)):length]\n",
    "df=df[0:int(length*(1-split))]"
   ]
  },
  {
   "cell_type": "markdown",
   "metadata": {},
   "source": [
    "# Results"
   ]
  },
  {
   "cell_type": "code",
   "execution_count": 51,
   "metadata": {},
   "outputs": [
    {
     "data": {
      "image/png": "[encoded data removed]",
      "text/plain": [
       "<Figure size 432x288 with 1 Axes>"
      ]
     },
     "metadata": {
      "needs_background": "light"
     },
     "output_type": "display_data"
    }
   ],
   "source": [
    "from random import randint\n",
    "import matplotlib.pyplot as plt\n",
    "from sklearn import metrics\n",
    "from sklearn.metrics import roc_curve, auc\n",
    "X_test = test.drop(['target'], axis=1)\n",
    "predictions_roc = model.predict(X_test)\n",
    "x=[randint(0,1) for p in range(0,2214)]\n",
    "fpr, tpr, thresholds = roc_curve(test['target'], x)\n",
    "roc_auc = auc(fpr, tpr)\n",
    "roc_auc\n",
    "plt.plot(fpr,tpr)\n",
    "plt.show()"
   ]
  },
  {
   "cell_type": "code",
   "execution_count": 52,
   "metadata": {},
   "outputs": [
    {
     "data": {
      "text/plain": [
       "0.5076441241005651"
      ]
     },
     "execution_count": 52,
     "metadata": {},
     "output_type": "execute_result"
    }
   ],
   "source": [
    "roc_auc"
   ]
  },
  {
   "cell_type": "code",
   "execution_count": 53,
   "metadata": {},
   "outputs": [],
   "source": [
    "X_array=test['target'].values"
   ]
  },
  {
   "cell_type": "code",
   "execution_count": 54,
   "metadata": {},
   "outputs": [
    {
     "name": "stdout",
     "output_type": "stream",
     "text": [
      "              precision    recall  f1-score   support\n",
      "\n",
      "     class 0       0.48      1.00      0.65      1065\n",
      "      class1       0.00      0.00      0.00      1149\n",
      "\n",
      "    accuracy                           0.48      2214\n",
      "   macro avg       0.24      0.50      0.32      2214\n",
      "weighted avg       0.23      0.48      0.31      2214\n",
      "\n"
     ]
    }
   ],
   "source": [
    "from sklearn.metrics import classification_report\n",
    "target_names=['class 0','class1']\n",
    "print(classification_report(X_array,predictions_roc,target_names=target_names))"
   ]
  },
  {
   "cell_type": "code",
   "execution_count": null,
   "metadata": {},
   "outputs": [],
   "source": []
  },
  {
   "cell_type": "code",
   "execution_count": null,
   "metadata": {},
   "outputs": [],
   "source": []
  }
 ],
 "metadata": {
  "kernelspec": {
   "display_name": "Python 3",
   "language": "python",
   "name": "python3"
  },
  "language_info": {
   "codemirror_mode": {
    "name": "ipython",
    "version": 3
   },
   "file_extension": ".py",
   "mimetype": "text/x-python",
   "name": "python",
   "nbconvert_exporter": "python",
   "pygments_lexer": "ipython3",
   "version": "3.7.4"
  }
 },
 "nbformat": 4,
 "nbformat_minor": 2
}
