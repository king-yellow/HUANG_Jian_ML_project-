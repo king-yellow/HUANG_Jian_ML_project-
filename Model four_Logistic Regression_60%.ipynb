{
 "cells": [
  {
   "cell_type": "code",
   "execution_count": 31,
   "metadata": {},
   "outputs": [],
   "source": [
    "from sklearn import model_selection, metrics, ensemble     #, grid_search\n",
    "from sklearn.model_selection import GridSearchCV\n",
    "from sklearn import tree\n",
    "import numpy as np\n",
    "import pandas as pd\n",
    "import seaborn as sns\n",
    "import matplotlib.pyplot as plt\n",
    "import warnings\n",
    "warnings.filterwarnings('ignore')"
   ]
  },
  {
   "cell_type": "markdown",
   "metadata": {},
   "source": [
    "# Data preprocessing"
   ]
  },
  {
   "cell_type": "code",
   "execution_count": 2,
   "metadata": {},
   "outputs": [
    {
     "name": "stdout",
     "output_type": "stream",
     "text": [
      "                                                 msno  \\\n",
      "3014303  Twph2nyPV2W1Ae92+27FpJIOJQiTWnf19eG+HHqW6ks=   \n",
      "4023331  G5bN8m9bSlhREpEQpyMK/ENgX+ZCBR+RhZOaWRdQOy0=   \n",
      "1554367  z9S4nHfx7X3fET/Sg5xTxyBh5SuqM9T+BhBVZlXvs2E=   \n",
      "3153002  APQ8HjfQWoPXHuzPWpIJtkVg7qLvsZGfQIK1HHxbNV0=   \n",
      "73873    RwhUFRSlCnsqR++Bri5eq4A9cJxQ8weKwi/IY1ERf9g=   \n",
      "...                                               ...   \n",
      "3786990  V39VxDdE9SgMQZnX58oQChm9W056pw2lC3TiifMfkKw=   \n",
      "4584984  OCH8rv8ZPcAK5olazWdIEAAeoCdVl9FOugQmfvF+3Dc=   \n",
      "4536613  lUCqJVrPbD0p+qRquqVLG1sUEYq8BbBS0qfAGaY8LoQ=   \n",
      "3756758  B7h2cLrN4mDgYLEVoLG4iyvPekN6bme2B+1eGXOqHzY=   \n",
      "5378307  yx05Q8J73CUIX8zrH54EedujaErTh1CzjScc/faTuSw=   \n",
      "\n",
      "                                              song_id source_system_tab  \\\n",
      "3014303  gu/lHDjq6qqpU7r3CQkvRpGF9kqc2Mrn9CZhb7jrFvY=          discover   \n",
      "4023331  0K/6UP5WwekreiQMdL4P+7SMqVAZk6XzltjGJfTU/0E=        my library   \n",
      "1554367  Kmr4FArupcXt834/QVwAeGbolEi0sbTka/r+976fAxw=        my library   \n",
      "3153002  2Mtfm7W61oEjymMCTA8Dz1NY86hPCvEzTc82W9BnnYY=             radio   \n",
      "73873    TqascA3xFEFnVM1aQ4Ok2YLsnRzOWBGrmgH+1LtkU6s=        my library   \n",
      "...                                               ...               ...   \n",
      "3786990  OiD1VHBxqXrBqGbq8sU60gOq2c2wB14KgbyZU+o23mQ=          discover   \n",
      "4584984  XUz4Z4wPPChz+OIwkwj7HJ8teIjW3rEMdEATM80rDxM=          discover   \n",
      "4536613  VEHQ9uyNfwMBFPtkLOFGSOnovTSfj6RlQbgYZYp1xZQ=        my library   \n",
      "3756758  yu1A1+49QYe9AXlOvdcoUHS3/hrFU6K2+oFARMn+rIo=        my library   \n",
      "5378307  /q7yQYH9I3XZmmNPIZveyj5a1o1GGWuf8m7Tln1OD6c=        my library   \n",
      "\n",
      "           source_screen_name      source_type  target  \n",
      "3014303  Online playlist more  online-playlist       1  \n",
      "4023331   Local playlist more    local-library       1  \n",
      "1554367   Local playlist more   local-playlist       1  \n",
      "3153002                 Radio            radio       0  \n",
      "73873     Local playlist more   local-playlist       1  \n",
      "...                       ...              ...     ...  \n",
      "3786990  Online playlist more  online-playlist       0  \n",
      "4584984  Online playlist more  online-playlist       0  \n",
      "4536613   Local playlist more    local-library       1  \n",
      "3756758            Album more            album       0  \n",
      "5378307   Local playlist more    local-library       1  \n",
      "\n",
      "[4426451 rows x 6 columns]\n"
     ]
    }
   ],
   "source": [
    "#read training data\n",
    "df = pd.read_csv('train.csv')\n",
    "df = df.sample(frac=0.6)           #random select 60% of rows\n",
    "print(df)"
   ]
  },
  {
   "cell_type": "code",
   "execution_count": 3,
   "metadata": {},
   "outputs": [
    {
     "name": "stdout",
     "output_type": "stream",
     "text": [
      "                                              song_id  song_length genre_ids  \\\n",
      "0        CXoTN1eb7AI+DntdU1vbcwGRV4SCIDxZu+YD8JP8r4E=       247640       465   \n",
      "1        o0kFgae9QtnYgRkVPqLJwa05zIhRlUjfF7O1tDw0ZDU=       197328       444   \n",
      "2        DwVvVurfpuz+XPuFvucclVQEyPqcpUkHR0ne1RQzPs0=       231781       465   \n",
      "3        dKMBWoZyScdxSkihKG+Vf47nc18N9q4m58+b4e7dSSE=       273554       465   \n",
      "4        W3bqWd3T+VeHFzHAUfARgW9AvVRaF4N5Yzm4Mr6Eo/o=       140329       726   \n",
      "...                                               ...          ...       ...   \n",
      "2296315  lg6rn7eV/ZNg0+P+x77kHUL7GDMfoL4eMtXxncseLNA=        20192       958   \n",
      "2296316  nXi1lrSJe+gLoTTNky7If0mNPrIyCQCLwagwR6XopGU=       273391       465   \n",
      "2296317  9KxSvIjbJyJzfEVWnkMbgR6dyn6d54ot0N5FKyKqii8=       445172      1609   \n",
      "2296318  UO8Y2MR2sjOn2q/Tp8/lzZTGKmLEvwZ20oWanG4XnYc=       172669       465   \n",
      "2296319  V/9qPSUOGT0FeIGBhDIZRRz5Y5yyjdXC2Z/+bJExo5s=       270466       829   \n",
      "\n",
      "               artist_name                            composer     lyricist  \\\n",
      "0         張信哲 (Jeff Chang)                                  董貞          何啟弘   \n",
      "1                BLACKPINK  TEDDY|  FUTURE BOUNCE|  Bekuh BOOM        TEDDY   \n",
      "2             SUPER JUNIOR                                 NaN          NaN   \n",
      "3                    S.H.E                                 湯小康          徐世珍   \n",
      "4                     貴族精選                         Traditional  Traditional   \n",
      "...                    ...                                 ...          ...   \n",
      "2296315  Catherine Collard         Robert Schumann (1810-1856)          NaN   \n",
      "2296316  紀文惠 (Justine Chi)                                 NaN          NaN   \n",
      "2296317    Various Artists                                 NaN          NaN   \n",
      "2296318  Peter Paul & Mary                                 NaN          NaN   \n",
      "2296319      Kim Robertson                                 NaN          NaN   \n",
      "\n",
      "         language  \n",
      "0             3.0  \n",
      "1            31.0  \n",
      "2            31.0  \n",
      "3             3.0  \n",
      "4            52.0  \n",
      "...           ...  \n",
      "2296315      -1.0  \n",
      "2296316       3.0  \n",
      "2296317      52.0  \n",
      "2296318      52.0  \n",
      "2296319      52.0  \n",
      "\n",
      "[2296320 rows x 7 columns]\n"
     ]
    }
   ],
   "source": [
    "#using songs and members dataset\n",
    "songs = pd.read_csv('songs.csv')\n",
    "print(songs)\n",
    "df = pd.merge(df, songs, on='song_id', how='left') #merge the dataframe by songs_id\n",
    "del songs                    #delete the variables song"
   ]
  },
  {
   "cell_type": "code",
   "execution_count": 4,
   "metadata": {},
   "outputs": [
    {
     "name": "stdout",
     "output_type": "stream",
     "text": [
      "                                               msno  city  bd gender  \\\n",
      "0      XQxgAYj3klVKjR3oxPPXYYFp4soD4TuBghkhMTD4oTw=     1   0    NaN   \n",
      "1      UizsfmJb9mV54qE9hCYyU07Va97c0lCRLEQX3ae+ztM=     1   0    NaN   \n",
      "2      D8nEhsIOBSoE6VthTaqDX8U6lqjJ7dLdr72mOyLya2A=     1   0    NaN   \n",
      "3      mCuD+tZ1hERA/o5GPqk38e041J8ZsBaLcu7nGoIIvhI=     1   0    NaN   \n",
      "4      q4HRBfVSssAFS9iRfxWrohxuk9kCYMKjHOEagUMV6rQ=     1   0    NaN   \n",
      "...                                             ...   ...  ..    ...   \n",
      "34398  Wwd/cudKVuLJ3txRVxlg2Zaeliu+LRUfiBmfrnxhRCY=     1   0    NaN   \n",
      "34399  g3JGnJX6Hg50lFbrNWfsHwCUmApIkiv2M8sXOaeXoIQ=     4  18   male   \n",
      "34400  IMaPMJuyN+ip9Vqi+z2XuXbFAP2kbHr+EvvCNkFfj+o=     1   0    NaN   \n",
      "34401  WAnCAJjUty9Stv8yKtV7ZC7PN+ilOy5FX3aIJgGPANM=     1   0    NaN   \n",
      "34402  xH8KpzKGeNNq6dOvy51c/8VzqOiGG+m6vabhsPSDHX4=     1   0    NaN   \n",
      "\n",
      "       registered_via  registration_init_time  expiration_date  \n",
      "0                   7                20110820         20170920  \n",
      "1                   7                20150628         20170622  \n",
      "2                   4                20160411         20170712  \n",
      "3                   9                20150906         20150907  \n",
      "4                   4                20170126         20170613  \n",
      "...               ...                     ...              ...  \n",
      "34398               7                20131111         20170910  \n",
      "34399               3                20141024         20170518  \n",
      "34400               7                20130802         20170908  \n",
      "34401               7                20151020         20170920  \n",
      "34402               4                20160815         20160818  \n",
      "\n",
      "[34403 rows x 7 columns]\n"
     ]
    }
   ],
   "source": [
    "# Load and join songs data\n",
    "members = pd.read_csv('members.csv')\n",
    "print(members)\n",
    "df = pd.merge(df, members, on='msno', how='left')   #merge the dataframe by msno\n",
    "del members"
   ]
  },
  {
   "cell_type": "code",
   "execution_count": 5,
   "metadata": {},
   "outputs": [
    {
     "data": {
      "text/plain": [
       "msno                      0.000000\n",
       "song_id                   0.000000\n",
       "source_system_tab         0.003368\n",
       "source_screen_name        0.056139\n",
       "source_type               0.002903\n",
       "target                    0.000000\n",
       "song_length               0.000014\n",
       "genre_ids                 0.016086\n",
       "artist_name               0.000014\n",
       "composer                  0.227164\n",
       "lyricist                  0.430934\n",
       "language                  0.000019\n",
       "city                      0.000000\n",
       "bd                        0.000000\n",
       "gender                    0.401442\n",
       "registered_via            0.000000\n",
       "registration_init_time    0.000000\n",
       "expiration_date           0.000000\n",
       "dtype: float64"
      ]
     },
     "execution_count": 5,
     "metadata": {},
     "output_type": "execute_result"
    }
   ],
   "source": [
    "#the percentage of null values\n",
    "df.isnull().sum()/df.isnull().count()"
   ]
  },
  {
   "cell_type": "code",
   "execution_count": 6,
   "metadata": {},
   "outputs": [],
   "source": [
    "#removing NA values from df\n",
    "\n",
    "for i in df.select_dtypes(include=['object']).columns:\n",
    "    df[i][df[i].isnull()] = 'unknown'\n",
    "df = df.fillna(value=0)"
   ]
  },
  {
   "cell_type": "code",
   "execution_count": 7,
   "metadata": {},
   "outputs": [],
   "source": [
    "# seperate the column of registration_init_date with month, year and day\n",
    "\n",
    "df.registration_init_time = pd.to_datetime(df.registration_init_time, format='%Y%m%d', errors='ignore')\n",
    "df['registration_init_time_year'] = df['registration_init_time'].dt.year\n",
    "df['registration_init_time_month'] = df['registration_init_time'].dt.month\n",
    "df['registration_init_time_day'] = df['registration_init_time'].dt.day\n",
    "\n",
    "\n",
    "# seperate the column of expiration date using year, date, month\n",
    "\n",
    "df.expiration_date = pd.to_datetime(df.expiration_date,  format='%Y%m%d', errors='ignore')\n",
    "df['expiration_date_year'] = df['expiration_date'].dt.year\n",
    "df['expiration_date_month'] = df['expiration_date'].dt.month\n",
    "df['expiration_date_day'] = df['expiration_date'].dt.day\n",
    "\n"
   ]
  },
  {
   "cell_type": "code",
   "execution_count": 10,
   "metadata": {},
   "outputs": [],
   "source": [
    "# convert into categorical values\n",
    "\n",
    "df['registration_init_time'] = df['registration_init_time'].astype('category')\n",
    "df['expiration_date'] = df['expiration_date'].astype('category')"
   ]
  },
  {
   "cell_type": "code",
   "execution_count": 11,
   "metadata": {},
   "outputs": [
    {
     "name": "stdout",
     "output_type": "stream",
     "text": [
      "msno\n",
      "song_id\n",
      "source_system_tab\n",
      "source_screen_name\n",
      "source_type\n",
      "genre_ids\n",
      "artist_name\n",
      "composer\n",
      "lyricist\n",
      "gender\n"
     ]
    }
   ],
   "source": [
    "# converting into categorcial values\n",
    "for col in df.select_dtypes(include=['object']).columns:\n",
    "    print(col)\n",
    "    #df[col] = df[col].astype('category')"
   ]
  },
  {
   "cell_type": "code",
   "execution_count": 12,
   "metadata": {},
   "outputs": [
    {
     "data": {
      "text/html": [
       "<div>\n",
       "<style scoped>\n",
       "    .dataframe tbody tr th:only-of-type {\n",
       "        vertical-align: middle;\n",
       "    }\n",
       "\n",
       "    .dataframe tbody tr th {\n",
       "        vertical-align: top;\n",
       "    }\n",
       "\n",
       "    .dataframe thead th {\n",
       "        text-align: right;\n",
       "    }\n",
       "</style>\n",
       "<table border=\"1\" class=\"dataframe\">\n",
       "  <thead>\n",
       "    <tr style=\"text-align: right;\">\n",
       "      <th></th>\n",
       "      <th>msno</th>\n",
       "      <th>song_id</th>\n",
       "      <th>source_system_tab</th>\n",
       "      <th>source_screen_name</th>\n",
       "      <th>source_type</th>\n",
       "      <th>genre_ids</th>\n",
       "      <th>artist_name</th>\n",
       "      <th>composer</th>\n",
       "      <th>lyricist</th>\n",
       "      <th>gender</th>\n",
       "    </tr>\n",
       "  </thead>\n",
       "  <tbody>\n",
       "    <tr>\n",
       "      <td>0</td>\n",
       "      <td>Twph2nyPV2W1Ae92+27FpJIOJQiTWnf19eG+HHqW6ks=</td>\n",
       "      <td>gu/lHDjq6qqpU7r3CQkvRpGF9kqc2Mrn9CZhb7jrFvY=</td>\n",
       "      <td>discover</td>\n",
       "      <td>Online playlist more</td>\n",
       "      <td>online-playlist</td>\n",
       "      <td>465</td>\n",
       "      <td>Redfoo</td>\n",
       "      <td>unknown</td>\n",
       "      <td>unknown</td>\n",
       "      <td>unknown</td>\n",
       "    </tr>\n",
       "    <tr>\n",
       "      <td>1</td>\n",
       "      <td>G5bN8m9bSlhREpEQpyMK/ENgX+ZCBR+RhZOaWRdQOy0=</td>\n",
       "      <td>0K/6UP5WwekreiQMdL4P+7SMqVAZk6XzltjGJfTU/0E=</td>\n",
       "      <td>my library</td>\n",
       "      <td>Local playlist more</td>\n",
       "      <td>local-library</td>\n",
       "      <td>465</td>\n",
       "      <td>閃靈樂團 (Chthonic)</td>\n",
       "      <td>林昶佐 FREDDY LIM</td>\n",
       "      <td>林昶佐 FREDDY LIM</td>\n",
       "      <td>male</td>\n",
       "    </tr>\n",
       "    <tr>\n",
       "      <td>2</td>\n",
       "      <td>z9S4nHfx7X3fET/Sg5xTxyBh5SuqM9T+BhBVZlXvs2E=</td>\n",
       "      <td>Kmr4FArupcXt834/QVwAeGbolEi0sbTka/r+976fAxw=</td>\n",
       "      <td>my library</td>\n",
       "      <td>Local playlist more</td>\n",
       "      <td>local-playlist</td>\n",
       "      <td>458</td>\n",
       "      <td>楊丞琳 (Rainie Yang)</td>\n",
       "      <td>Xiao-Leng</td>\n",
       "      <td>Yi-Xuan Jian| Xi-Xuan Yan</td>\n",
       "      <td>male</td>\n",
       "    </tr>\n",
       "    <tr>\n",
       "      <td>3</td>\n",
       "      <td>APQ8HjfQWoPXHuzPWpIJtkVg7qLvsZGfQIK1HHxbNV0=</td>\n",
       "      <td>2Mtfm7W61oEjymMCTA8Dz1NY86hPCvEzTc82W9BnnYY=</td>\n",
       "      <td>radio</td>\n",
       "      <td>Radio</td>\n",
       "      <td>radio</td>\n",
       "      <td>465|921</td>\n",
       "      <td>牽牛花開的日子電視原聲帶</td>\n",
       "      <td>方炯鑌</td>\n",
       "      <td>馬嵩惟</td>\n",
       "      <td>unknown</td>\n",
       "    </tr>\n",
       "    <tr>\n",
       "      <td>4</td>\n",
       "      <td>RwhUFRSlCnsqR++Bri5eq4A9cJxQ8weKwi/IY1ERf9g=</td>\n",
       "      <td>TqascA3xFEFnVM1aQ4Ok2YLsnRzOWBGrmgH+1LtkU6s=</td>\n",
       "      <td>my library</td>\n",
       "      <td>Local playlist more</td>\n",
       "      <td>local-playlist</td>\n",
       "      <td>465</td>\n",
       "      <td>S.H.E</td>\n",
       "      <td>Roberto Rosan + Heiko Schmidt</td>\n",
       "      <td>施人誠</td>\n",
       "      <td>female</td>\n",
       "    </tr>\n",
       "    <tr>\n",
       "      <td>...</td>\n",
       "      <td>...</td>\n",
       "      <td>...</td>\n",
       "      <td>...</td>\n",
       "      <td>...</td>\n",
       "      <td>...</td>\n",
       "      <td>...</td>\n",
       "      <td>...</td>\n",
       "      <td>...</td>\n",
       "      <td>...</td>\n",
       "      <td>...</td>\n",
       "    </tr>\n",
       "    <tr>\n",
       "      <td>4426446</td>\n",
       "      <td>V39VxDdE9SgMQZnX58oQChm9W056pw2lC3TiifMfkKw=</td>\n",
       "      <td>OiD1VHBxqXrBqGbq8sU60gOq2c2wB14KgbyZU+o23mQ=</td>\n",
       "      <td>discover</td>\n",
       "      <td>Online playlist more</td>\n",
       "      <td>online-playlist</td>\n",
       "      <td>359</td>\n",
       "      <td>Coldplay</td>\n",
       "      <td>unknown</td>\n",
       "      <td>unknown</td>\n",
       "      <td>unknown</td>\n",
       "    </tr>\n",
       "    <tr>\n",
       "      <td>4426447</td>\n",
       "      <td>OCH8rv8ZPcAK5olazWdIEAAeoCdVl9FOugQmfvF+3Dc=</td>\n",
       "      <td>XUz4Z4wPPChz+OIwkwj7HJ8teIjW3rEMdEATM80rDxM=</td>\n",
       "      <td>discover</td>\n",
       "      <td>Online playlist more</td>\n",
       "      <td>online-playlist</td>\n",
       "      <td>465</td>\n",
       "      <td>Justin Bieber</td>\n",
       "      <td>Justin Bieber| Julia Michaels| Michael Tucker|...</td>\n",
       "      <td>unknown</td>\n",
       "      <td>female</td>\n",
       "    </tr>\n",
       "    <tr>\n",
       "      <td>4426448</td>\n",
       "      <td>lUCqJVrPbD0p+qRquqVLG1sUEYq8BbBS0qfAGaY8LoQ=</td>\n",
       "      <td>VEHQ9uyNfwMBFPtkLOFGSOnovTSfj6RlQbgYZYp1xZQ=</td>\n",
       "      <td>my library</td>\n",
       "      <td>Local playlist more</td>\n",
       "      <td>local-library</td>\n",
       "      <td>465</td>\n",
       "      <td>陳零九 (Nine Chen)</td>\n",
       "      <td>陳零九</td>\n",
       "      <td>陳零九</td>\n",
       "      <td>unknown</td>\n",
       "    </tr>\n",
       "    <tr>\n",
       "      <td>4426449</td>\n",
       "      <td>B7h2cLrN4mDgYLEVoLG4iyvPekN6bme2B+1eGXOqHzY=</td>\n",
       "      <td>yu1A1+49QYe9AXlOvdcoUHS3/hrFU6K2+oFARMn+rIo=</td>\n",
       "      <td>my library</td>\n",
       "      <td>Album more</td>\n",
       "      <td>album</td>\n",
       "      <td>947</td>\n",
       "      <td>α波童話音樂盒系列</td>\n",
       "      <td>unknown</td>\n",
       "      <td>unknown</td>\n",
       "      <td>male</td>\n",
       "    </tr>\n",
       "    <tr>\n",
       "      <td>4426450</td>\n",
       "      <td>yx05Q8J73CUIX8zrH54EedujaErTh1CzjScc/faTuSw=</td>\n",
       "      <td>/q7yQYH9I3XZmmNPIZveyj5a1o1GGWuf8m7Tln1OD6c=</td>\n",
       "      <td>my library</td>\n",
       "      <td>Local playlist more</td>\n",
       "      <td>local-library</td>\n",
       "      <td>465</td>\n",
       "      <td>王力宏 (Leehom Wang)</td>\n",
       "      <td>王力宏</td>\n",
       "      <td>王力宏/崔惟楷</td>\n",
       "      <td>female</td>\n",
       "    </tr>\n",
       "  </tbody>\n",
       "</table>\n",
       "<p>4426451 rows × 10 columns</p>\n",
       "</div>"
      ],
      "text/plain": [
       "                                                 msno  \\\n",
       "0        Twph2nyPV2W1Ae92+27FpJIOJQiTWnf19eG+HHqW6ks=   \n",
       "1        G5bN8m9bSlhREpEQpyMK/ENgX+ZCBR+RhZOaWRdQOy0=   \n",
       "2        z9S4nHfx7X3fET/Sg5xTxyBh5SuqM9T+BhBVZlXvs2E=   \n",
       "3        APQ8HjfQWoPXHuzPWpIJtkVg7qLvsZGfQIK1HHxbNV0=   \n",
       "4        RwhUFRSlCnsqR++Bri5eq4A9cJxQ8weKwi/IY1ERf9g=   \n",
       "...                                               ...   \n",
       "4426446  V39VxDdE9SgMQZnX58oQChm9W056pw2lC3TiifMfkKw=   \n",
       "4426447  OCH8rv8ZPcAK5olazWdIEAAeoCdVl9FOugQmfvF+3Dc=   \n",
       "4426448  lUCqJVrPbD0p+qRquqVLG1sUEYq8BbBS0qfAGaY8LoQ=   \n",
       "4426449  B7h2cLrN4mDgYLEVoLG4iyvPekN6bme2B+1eGXOqHzY=   \n",
       "4426450  yx05Q8J73CUIX8zrH54EedujaErTh1CzjScc/faTuSw=   \n",
       "\n",
       "                                              song_id source_system_tab  \\\n",
       "0        gu/lHDjq6qqpU7r3CQkvRpGF9kqc2Mrn9CZhb7jrFvY=          discover   \n",
       "1        0K/6UP5WwekreiQMdL4P+7SMqVAZk6XzltjGJfTU/0E=        my library   \n",
       "2        Kmr4FArupcXt834/QVwAeGbolEi0sbTka/r+976fAxw=        my library   \n",
       "3        2Mtfm7W61oEjymMCTA8Dz1NY86hPCvEzTc82W9BnnYY=             radio   \n",
       "4        TqascA3xFEFnVM1aQ4Ok2YLsnRzOWBGrmgH+1LtkU6s=        my library   \n",
       "...                                               ...               ...   \n",
       "4426446  OiD1VHBxqXrBqGbq8sU60gOq2c2wB14KgbyZU+o23mQ=          discover   \n",
       "4426447  XUz4Z4wPPChz+OIwkwj7HJ8teIjW3rEMdEATM80rDxM=          discover   \n",
       "4426448  VEHQ9uyNfwMBFPtkLOFGSOnovTSfj6RlQbgYZYp1xZQ=        my library   \n",
       "4426449  yu1A1+49QYe9AXlOvdcoUHS3/hrFU6K2+oFARMn+rIo=        my library   \n",
       "4426450  /q7yQYH9I3XZmmNPIZveyj5a1o1GGWuf8m7Tln1OD6c=        my library   \n",
       "\n",
       "           source_screen_name      source_type genre_ids        artist_name  \\\n",
       "0        Online playlist more  online-playlist       465             Redfoo   \n",
       "1         Local playlist more    local-library       465    閃靈樂團 (Chthonic)   \n",
       "2         Local playlist more   local-playlist       458  楊丞琳 (Rainie Yang)   \n",
       "3                       Radio            radio   465|921       牽牛花開的日子電視原聲帶   \n",
       "4         Local playlist more   local-playlist       465              S.H.E   \n",
       "...                       ...              ...       ...                ...   \n",
       "4426446  Online playlist more  online-playlist       359           Coldplay   \n",
       "4426447  Online playlist more  online-playlist       465      Justin Bieber   \n",
       "4426448   Local playlist more    local-library       465    陳零九 (Nine Chen)   \n",
       "4426449            Album more            album       947          α波童話音樂盒系列   \n",
       "4426450   Local playlist more    local-library       465  王力宏 (Leehom Wang)   \n",
       "\n",
       "                                                  composer  \\\n",
       "0                                                  unknown   \n",
       "1                                           林昶佐 FREDDY LIM   \n",
       "2                                                Xiao-Leng   \n",
       "3                                                      方炯鑌   \n",
       "4                            Roberto Rosan + Heiko Schmidt   \n",
       "...                                                    ...   \n",
       "4426446                                            unknown   \n",
       "4426447  Justin Bieber| Julia Michaels| Michael Tucker|...   \n",
       "4426448                                                陳零九   \n",
       "4426449                                            unknown   \n",
       "4426450                                                王力宏   \n",
       "\n",
       "                          lyricist   gender  \n",
       "0                          unknown  unknown  \n",
       "1                   林昶佐 FREDDY LIM     male  \n",
       "2        Yi-Xuan Jian| Xi-Xuan Yan     male  \n",
       "3                              馬嵩惟  unknown  \n",
       "4                              施人誠   female  \n",
       "...                            ...      ...  \n",
       "4426446                    unknown  unknown  \n",
       "4426447                    unknown   female  \n",
       "4426448                        陳零九  unknown  \n",
       "4426449                    unknown     male  \n",
       "4426450                    王力宏/崔惟楷   female  \n",
       "\n",
       "[4426451 rows x 10 columns]"
      ]
     },
     "execution_count": 12,
     "metadata": {},
     "output_type": "execute_result"
    }
   ],
   "source": [
    "df.select_dtypes(include=['object'])"
   ]
  },
  {
   "cell_type": "code",
   "execution_count": 13,
   "metadata": {},
   "outputs": [],
   "source": [
    "# converting into categorcial values\n",
    "for col in df.select_dtypes(include=['object']).columns:\n",
    "    df[col] = df[col].astype('category')"
   ]
  },
  {
   "cell_type": "code",
   "execution_count": 14,
   "metadata": {},
   "outputs": [],
   "source": [
    "# encoding of categorical values\n",
    "for col in df.select_dtypes(include=['category']).columns:\n",
    "    df[col] = df[col].cat.codes\n",
    "df = df.drop(['expiration_date', 'lyricist'], 1)"
   ]
  },
  {
   "cell_type": "markdown",
   "metadata": {},
   "source": [
    "# Data dimension reduction"
   ]
  },
  {
   "cell_type": "code",
   "execution_count": 15,
   "metadata": {},
   "outputs": [
    {
     "data": {
      "text/plain": [
       "PCA(copy=True, iterated_power='auto', n_components=2, random_state=None,\n",
       "    svd_solver='auto', tol=0.0, whiten=False)"
      ]
     },
     "execution_count": 15,
     "metadata": {},
     "output_type": "execute_result"
    }
   ],
   "source": [
    "#implementing PCA\n",
    "\n",
    "import numpy as np\n",
    "from sklearn.decomposition import PCA\n",
    "\n",
    "pca = PCA(n_components=2)\n",
    "pca.fit(df[df.columns[df.columns != 'target']])  "
   ]
  },
  {
   "cell_type": "markdown",
   "metadata": {},
   "source": [
    "# Training via Logistic Regression"
   ]
  },
  {
   "cell_type": "code",
   "execution_count": 16,
   "metadata": {},
   "outputs": [],
   "source": [
    "from sklearn.linear_model import LogisticRegression"
   ]
  },
  {
   "cell_type": "code",
   "execution_count": 17,
   "metadata": {},
   "outputs": [
    {
     "data": {
      "text/plain": [
       "LogisticRegression(C=1.0, class_weight=None, dual=False, fit_intercept=True,\n",
       "                   intercept_scaling=1, l1_ratio=None, max_iter=100,\n",
       "                   multi_class='ovr', n_jobs=1, penalty='l2', random_state=None,\n",
       "                   solver='liblinear', tol=0.0001, verbose=0, warm_start=False)"
      ]
     },
     "execution_count": 17,
     "metadata": {},
     "output_type": "execute_result"
    }
   ],
   "source": [
    "model=LogisticRegression(penalty='l2', dual=False, tol=0.0001, C=1.0, fit_intercept=True, intercept_scaling=1, class_weight=None, random_state=None, solver='liblinear', max_iter=100, multi_class='ovr', verbose=0, warm_start=False, n_jobs=1)\n",
    "model.fit(df[df.columns[df.columns != 'target']], df.target)"
   ]
  },
  {
   "cell_type": "code",
   "execution_count": 19,
   "metadata": {},
   "outputs": [],
   "source": [
    "from sklearn.model_selection import KFold\n",
    "\n",
    "kf = KFold(n_splits=3)\n",
    "y = df['target'].values\n",
    "model=LogisticRegression(penalty='l2', dual=False, tol=0.0001, C=1.0, fit_intercept=True, intercept_scaling=1, class_weight=None, random_state=None, solver='liblinear', max_iter=100, multi_class='ovr', verbose=0, warm_start=False, n_jobs=1)\n",
    "\n",
    "for train_indices,val_indices in kf.split(df) :\n",
    "    model.fit(df.drop(['target'],axis=1).loc[train_indices,:],df.loc[train_indices,'target'])"
   ]
  },
  {
   "cell_type": "code",
   "execution_count": 20,
   "metadata": {},
   "outputs": [
    {
     "data": {
      "text/plain": [
       "0.5952260625950677"
      ]
     },
     "execution_count": 20,
     "metadata": {},
     "output_type": "execute_result"
    }
   ],
   "source": [
    "model.score(df[df.columns[df.columns != 'target']], df.target)"
   ]
  },
  {
   "cell_type": "markdown",
   "metadata": {},
   "source": [
    "# Data preprocessing for Testing set"
   ]
  },
  {
   "cell_type": "code",
   "execution_count": 21,
   "metadata": {},
   "outputs": [],
   "source": [
    "df_test=pd.read_csv('test.csv')\n",
    "songs = pd.read_csv('songs.csv')\n",
    "df_test = pd.merge(df_test, songs, on='song_id', how='left')\n",
    "del songs\n",
    "\n",
    "# Load and join songs data\n",
    "members = pd.read_csv('members.csv')\n",
    "df_test = pd.merge(df_test, members, on='msno', how='left')\n",
    "del members\n",
    "\n",
    "df_test.isnull().sum()/df_test.isnull().count()*100\n",
    "\n",
    "#replace NA\n",
    "for i in df_test.select_dtypes(include=['object']).columns:\n",
    "    df_test[i][df_test[i].isnull()] = 'unknown'\n",
    "df_test = df_test.fillna(value=0)\n",
    "\n",
    "df_test.registration_init_time = pd.to_datetime(df_test.registration_init_time, format='%Y%m%d', errors='ignore')\n",
    "df_test['registration_init_time_year'] = df_test['registration_init_time'].dt.year\n",
    "df_test['registration_init_time_month'] = df_test['registration_init_time'].dt.month\n",
    "df_test['registration_init_time_day'] = df_test['registration_init_time'].dt.day\n",
    "\n",
    "# expiration_date\n",
    "df_test.expiration_date = pd.to_datetime(df_test.expiration_date,  format='%Y%m%d', errors='ignore')\n",
    "df_test['expiration_date_year'] = df_test['expiration_date'].dt.year\n",
    "df_test['expiration_date_month'] = df_test['expiration_date'].dt.month\n",
    "df_test['expiration_date_day'] = df_test['expiration_date'].dt.day\n",
    "\n",
    "df_test['registration_init_time'] = df_test['registration_init_time'].astype('category')\n",
    "df_test['expiration_date'] = df_test['expiration_date'].astype('category')\n",
    "\n",
    "# Object data to category\n",
    "for col in df_test.select_dtypes(include=['object']).columns:\n",
    "    df_test[col] = df_test[col].astype('category')\n",
    "    \n",
    "# Encoding categorical features\n",
    "for col in df_test.select_dtypes(include=['category']).columns:\n",
    "    df_test[col] = df_test[col].cat.codes\n",
    "    "
   ]
  },
  {
   "cell_type": "code",
   "execution_count": 22,
   "metadata": {},
   "outputs": [],
   "source": [
    "df_test = df_test.drop(['expiration_date', 'lyricist'], 1)"
   ]
  },
  {
   "cell_type": "code",
   "execution_count": 23,
   "metadata": {},
   "outputs": [],
   "source": [
    "predictions = np.zeros(shape=[len(df_test)])\n",
    "predictions+=model.predict(df_test.drop(['id'],axis=1))"
   ]
  },
  {
   "cell_type": "code",
   "execution_count": 24,
   "metadata": {},
   "outputs": [],
   "source": [
    "predictions = predictions/3\n",
    "\n",
    "submission = pd.read_csv('sample_submission.csv')\n",
    "#submission = submission.sample(frac=0.6)\n",
    "submission.target=predictions\n",
    "submission.to_csv('LR.csv',index=False)"
   ]
  },
  {
   "cell_type": "code",
   "execution_count": 25,
   "metadata": {},
   "outputs": [],
   "source": [
    "#hold out validation to plot roc curve\n",
    "\n",
    "length=df['target'].count()\n",
    "split = 0.40\n",
    "\n",
    "test=df[int(length*(1-split)):length]\n",
    "df=df[0:int(length*(1-split))]"
   ]
  },
  {
   "cell_type": "markdown",
   "metadata": {},
   "source": [
    "# Results"
   ]
  },
  {
   "cell_type": "code",
   "execution_count": 26,
   "metadata": {},
   "outputs": [
    {
     "data": {
      "text/plain": [
       "[<matplotlib.lines.Line2D at 0x182fa5e7548>]"
      ]
     },
     "execution_count": 26,
     "metadata": {},
     "output_type": "execute_result"
    },
    {
     "data": {
      "image/png": "[encoded data removed]",
      "text/plain": [
       "<Figure size 432x288 with 1 Axes>"
      ]
     },
     "metadata": {
      "needs_background": "light"
     },
     "output_type": "display_data"
    }
   ],
   "source": [
    "import matplotlib.pyplot as plt\n",
    "from sklearn import metrics\n",
    "from sklearn.metrics import roc_curve, auc\n",
    "X_test = test.drop(['target'], axis=1)\n",
    "predictions_roc = model.predict(X_test)\n",
    "\n",
    "fpr, tpr, thresholds = roc_curve(test['target'], predictions_roc)\n",
    "roc_auc = auc(fpr, tpr)\n",
    "roc_auc\n",
    "plt.plot(fpr,tpr)"
   ]
  },
  {
   "cell_type": "code",
   "execution_count": 27,
   "metadata": {},
   "outputs": [],
   "source": [
    "plt.show()"
   ]
  },
  {
   "cell_type": "code",
   "execution_count": 28,
   "metadata": {},
   "outputs": [
    {
     "data": {
      "text/plain": [
       "0.5943045063096976"
      ]
     },
     "execution_count": 28,
     "metadata": {},
     "output_type": "execute_result"
    }
   ],
   "source": [
    "roc_auc"
   ]
  },
  {
   "cell_type": "code",
   "execution_count": 29,
   "metadata": {},
   "outputs": [],
   "source": [
    "X_array=test['target'].values"
   ]
  },
  {
   "cell_type": "code",
   "execution_count": 30,
   "metadata": {},
   "outputs": [
    {
     "name": "stdout",
     "output_type": "stream",
     "text": [
      "              precision    recall  f1-score   support\n",
      "\n",
      "     class 0       0.60      0.56      0.58    879182\n",
      "     class 1       0.59      0.63      0.61    891399\n",
      "\n",
      "    accuracy                           0.59   1770581\n",
      "   macro avg       0.59      0.59      0.59   1770581\n",
      "weighted avg       0.59      0.59      0.59   1770581\n",
      "\n"
     ]
    }
   ],
   "source": [
    "from sklearn.metrics import classification_report\n",
    "target_names = ['class 0', 'class 1']\n",
    "print(classification_report(X_array,predictions_roc, target_names=target_names))"
   ]
  },
  {
   "cell_type": "code",
   "execution_count": null,
   "metadata": {},
   "outputs": [],
   "source": []
  }
 ],
 "metadata": {
  "kernelspec": {
   "display_name": "Python 3",
   "language": "python",
   "name": "python3"
  },
  "language_info": {
   "codemirror_mode": {
    "name": "ipython",
    "version": 3
   },
   "file_extension": ".py",
   "mimetype": "text/x-python",
   "name": "python",
   "nbconvert_exporter": "python",
   "pygments_lexer": "ipython3",
   "version": "3.7.4"
  }
 },
 "nbformat": 4,
 "nbformat_minor": 2
}
