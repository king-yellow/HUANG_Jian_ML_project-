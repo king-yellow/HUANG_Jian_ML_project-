{
 "cells": [
  {
   "cell_type": "code",
   "execution_count": 1,
   "metadata": {},
   "outputs": [],
   "source": [
    "import numpy as np\n",
    "import pandas as pd\n",
    "from sklearn import model_selection,metrics, svm      #grid_search,\n",
    "from sklearn.model_selection import GridSearchCV\n",
    "import numpy as np\n",
    "import pandas as pd\n",
    "import seaborn as sns\n",
    "import matplotlib.pyplot as plt\n",
    "import matplotlib as mpl\n",
    "import warnings\n",
    "warnings.filterwarnings('ignore')"
   ]
  },
  {
   "cell_type": "markdown",
   "metadata": {},
   "source": [
    "# Data preprocessing"
   ]
  },
  {
   "cell_type": "code",
   "execution_count": 4,
   "metadata": {},
   "outputs": [
    {
     "name": "stdout",
     "output_type": "stream",
     "text": [
      "                                                 msno  \\\n",
      "4082810  rTRnQS/r4ShT0b4O+MibIwdjsMkoNKVDz9ZXxS0yCYg=   \n",
      "7208849  TeQUhU/bEOd9E8tF3oQw0hvhsrexQveqY4JpjVXCHX8=   \n",
      "1558194  gEcYF5Mb3FMPyaJeUx98WHgQOeUqOVBNdosPH8XRycg=   \n",
      "874815   MfnqFh90tpVWsyp1YVFe03rZg8LjDIDZqKjcnmbKW/Y=   \n",
      "6569363  kV/O8OSpIQmicSvCuxCqFLrmt94nN9HTyAVpyxc1Nh0=   \n",
      "...                                               ...   \n",
      "6892075  0gR6Hl63ExurTrvY9uEfmgDDgRj0nBaIse0DU199YT8=   \n",
      "168375   Vh/2q2Y+ESQfcS4bXIdraSzryn/e1EHmpjUbvx+Bt00=   \n",
      "2457545  iduk/8d4HbpKuYf+4SzifkoHpzmeDcW9yCnaZEkxdh8=   \n",
      "3296373  aw0F3odb6ETJ5LtklT7Ag2b9HiCdidrRVkN7bbJLx3I=   \n",
      "1692071  S7CMolTRHVHHR+/zXLtRsuk3Ko5RSYM2rbl6Yj+WjXg=   \n",
      "\n",
      "                                              song_id source_system_tab  \\\n",
      "4082810  qcT1nkRj//s3CGLHn2fV8LoB97q9ctGGvl93auq7Guk=        my library   \n",
      "7208849  ls2DaFwqfKpflreqd5rUgWlHA+A22a5DT+NRRmUDD8I=            search   \n",
      "1558194  nBh/12CeQ3B0/CKJw/TrYHJYERGXrfixEOyd3PWBD+k=        my library   \n",
      "874815   u9z+kvlYCkrSlDdJv3O/t5h+JpZJrSn2ZBI1GWe+EYQ=        my library   \n",
      "6569363  k8s6aRatZAv/w4exkA4Oa8r75gBrxG0z3CHdb9Lrexc=            search   \n",
      "...                                               ...               ...   \n",
      "6892075  GSzkHSWmWo4vZmF5s7+w6Y5EvTv5bpOnbZsFprUc/Yg=             radio   \n",
      "168375   FDVy0pjMHkCjuxphs2p149PfqFF92e/wlvg9MKy/rk0=        my library   \n",
      "2457545  7pVp4DvikAFHXWFmws+GYnsrKzWI/EUccAy1apWJTXM=             radio   \n",
      "3296373  OAIBxekYEb8alz8SDpozofgTf5qL3nozyuHJPvjr9QU=        my library   \n",
      "1692071  lhrN5Q069mAF35yPS+P4Rk1c1L4jhrAt3T2UjvT8yXc=       listen with   \n",
      "\n",
      "          source_screen_name     source_type  target  \n",
      "4082810  Local playlist more  local-playlist       1  \n",
      "7208849           Album more           album       0  \n",
      "1558194  Local playlist more  local-playlist       1  \n",
      "874815   Local playlist more   local-library       1  \n",
      "6569363               Search            song       1  \n",
      "...                      ...             ...     ...  \n",
      "6892075                Radio           radio       0  \n",
      "168375   Local playlist more   local-library       1  \n",
      "2457545                Radio           radio       0  \n",
      "3296373  Local playlist more   local-library       1  \n",
      "1692071  Others profile more     listen-with       0  \n",
      "\n",
      "[7377 rows x 6 columns]\n"
     ]
    }
   ],
   "source": [
    "#read training data\n",
    "df = pd.read_csv('train.csv')\n",
    "df = df.sample(frac=0.001)           #random select 0.1% of rows\n",
    "print(df)"
   ]
  },
  {
   "cell_type": "code",
   "execution_count": 5,
   "metadata": {},
   "outputs": [
    {
     "name": "stdout",
     "output_type": "stream",
     "text": [
      "                                              song_id  song_length genre_ids  \\\n",
      "0        CXoTN1eb7AI+DntdU1vbcwGRV4SCIDxZu+YD8JP8r4E=       247640       465   \n",
      "1        o0kFgae9QtnYgRkVPqLJwa05zIhRlUjfF7O1tDw0ZDU=       197328       444   \n",
      "2        DwVvVurfpuz+XPuFvucclVQEyPqcpUkHR0ne1RQzPs0=       231781       465   \n",
      "3        dKMBWoZyScdxSkihKG+Vf47nc18N9q4m58+b4e7dSSE=       273554       465   \n",
      "4        W3bqWd3T+VeHFzHAUfARgW9AvVRaF4N5Yzm4Mr6Eo/o=       140329       726   \n",
      "...                                               ...          ...       ...   \n",
      "2296315  lg6rn7eV/ZNg0+P+x77kHUL7GDMfoL4eMtXxncseLNA=        20192       958   \n",
      "2296316  nXi1lrSJe+gLoTTNky7If0mNPrIyCQCLwagwR6XopGU=       273391       465   \n",
      "2296317  9KxSvIjbJyJzfEVWnkMbgR6dyn6d54ot0N5FKyKqii8=       445172      1609   \n",
      "2296318  UO8Y2MR2sjOn2q/Tp8/lzZTGKmLEvwZ20oWanG4XnYc=       172669       465   \n",
      "2296319  V/9qPSUOGT0FeIGBhDIZRRz5Y5yyjdXC2Z/+bJExo5s=       270466       829   \n",
      "\n",
      "               artist_name                            composer     lyricist  \\\n",
      "0         張信哲 (Jeff Chang)                                  董貞          何啟弘   \n",
      "1                BLACKPINK  TEDDY|  FUTURE BOUNCE|  Bekuh BOOM        TEDDY   \n",
      "2             SUPER JUNIOR                                 NaN          NaN   \n",
      "3                    S.H.E                                 湯小康          徐世珍   \n",
      "4                     貴族精選                         Traditional  Traditional   \n",
      "...                    ...                                 ...          ...   \n",
      "2296315  Catherine Collard         Robert Schumann (1810-1856)          NaN   \n",
      "2296316  紀文惠 (Justine Chi)                                 NaN          NaN   \n",
      "2296317    Various Artists                                 NaN          NaN   \n",
      "2296318  Peter Paul & Mary                                 NaN          NaN   \n",
      "2296319      Kim Robertson                                 NaN          NaN   \n",
      "\n",
      "         language  \n",
      "0             3.0  \n",
      "1            31.0  \n",
      "2            31.0  \n",
      "3             3.0  \n",
      "4            52.0  \n",
      "...           ...  \n",
      "2296315      -1.0  \n",
      "2296316       3.0  \n",
      "2296317      52.0  \n",
      "2296318      52.0  \n",
      "2296319      52.0  \n",
      "\n",
      "[2296320 rows x 7 columns]\n"
     ]
    }
   ],
   "source": [
    "#using songs and members dataset\n",
    "songs = pd.read_csv('songs.csv')\n",
    "print(songs)\n",
    "df = pd.merge(df, songs, on='song_id', how='left') #merge the dataframe by songs_id\n",
    "del songs                    #delete the variables song"
   ]
  },
  {
   "cell_type": "code",
   "execution_count": 6,
   "metadata": {},
   "outputs": [
    {
     "name": "stdout",
     "output_type": "stream",
     "text": [
      "                                               msno  city  bd gender  \\\n",
      "0      XQxgAYj3klVKjR3oxPPXYYFp4soD4TuBghkhMTD4oTw=     1   0    NaN   \n",
      "1      UizsfmJb9mV54qE9hCYyU07Va97c0lCRLEQX3ae+ztM=     1   0    NaN   \n",
      "2      D8nEhsIOBSoE6VthTaqDX8U6lqjJ7dLdr72mOyLya2A=     1   0    NaN   \n",
      "3      mCuD+tZ1hERA/o5GPqk38e041J8ZsBaLcu7nGoIIvhI=     1   0    NaN   \n",
      "4      q4HRBfVSssAFS9iRfxWrohxuk9kCYMKjHOEagUMV6rQ=     1   0    NaN   \n",
      "...                                             ...   ...  ..    ...   \n",
      "34398  Wwd/cudKVuLJ3txRVxlg2Zaeliu+LRUfiBmfrnxhRCY=     1   0    NaN   \n",
      "34399  g3JGnJX6Hg50lFbrNWfsHwCUmApIkiv2M8sXOaeXoIQ=     4  18   male   \n",
      "34400  IMaPMJuyN+ip9Vqi+z2XuXbFAP2kbHr+EvvCNkFfj+o=     1   0    NaN   \n",
      "34401  WAnCAJjUty9Stv8yKtV7ZC7PN+ilOy5FX3aIJgGPANM=     1   0    NaN   \n",
      "34402  xH8KpzKGeNNq6dOvy51c/8VzqOiGG+m6vabhsPSDHX4=     1   0    NaN   \n",
      "\n",
      "       registered_via  registration_init_time  expiration_date  \n",
      "0                   7                20110820         20170920  \n",
      "1                   7                20150628         20170622  \n",
      "2                   4                20160411         20170712  \n",
      "3                   9                20150906         20150907  \n",
      "4                   4                20170126         20170613  \n",
      "...               ...                     ...              ...  \n",
      "34398               7                20131111         20170910  \n",
      "34399               3                20141024         20170518  \n",
      "34400               7                20130802         20170908  \n",
      "34401               7                20151020         20170920  \n",
      "34402               4                20160815         20160818  \n",
      "\n",
      "[34403 rows x 7 columns]\n"
     ]
    }
   ],
   "source": [
    "# Load and join songs data\n",
    "members = pd.read_csv('members.csv')\n",
    "print(members)\n",
    "df = pd.merge(df, members, on='msno', how='left')   #merge the dataframe by msno\n",
    "del members"
   ]
  },
  {
   "cell_type": "code",
   "execution_count": 7,
   "metadata": {},
   "outputs": [
    {
     "data": {
      "text/plain": [
       "msno                      0.000000\n",
       "song_id                   0.000000\n",
       "source_system_tab         0.003253\n",
       "source_screen_name        0.055443\n",
       "source_type               0.002711\n",
       "target                    0.000000\n",
       "song_length               0.000000\n",
       "genre_ids                 0.015725\n",
       "artist_name               0.000000\n",
       "composer                  0.227464\n",
       "lyricist                  0.431341\n",
       "language                  0.000000\n",
       "city                      0.000000\n",
       "bd                        0.000000\n",
       "gender                    0.392843\n",
       "registered_via            0.000000\n",
       "registration_init_time    0.000000\n",
       "expiration_date           0.000000\n",
       "dtype: float64"
      ]
     },
     "execution_count": 7,
     "metadata": {},
     "output_type": "execute_result"
    }
   ],
   "source": [
    "#the percentage of null values\n",
    "df.isnull().sum()/df.isnull().count()"
   ]
  },
  {
   "cell_type": "code",
   "execution_count": 8,
   "metadata": {},
   "outputs": [],
   "source": [
    "#removing NA values from df\n",
    "\n",
    "for i in df.select_dtypes(include=['object']).columns:\n",
    "    df[i][df[i].isnull()] = 'unknown'\n",
    "df = df.fillna(value=0)"
   ]
  },
  {
   "cell_type": "code",
   "execution_count": 9,
   "metadata": {},
   "outputs": [],
   "source": [
    "# seperate the column of registration_init_date with month, year and day\n",
    "\n",
    "df.registration_init_time = pd.to_datetime(df.registration_init_time, format='%Y%m%d', errors='ignore')\n",
    "df['registration_init_time_year'] = df['registration_init_time'].dt.year\n",
    "df['registration_init_time_month'] = df['registration_init_time'].dt.month\n",
    "df['registration_init_time_day'] = df['registration_init_time'].dt.day\n",
    "\n",
    "\n",
    "# seperate the column of expiration date using year, date, month\n",
    "\n",
    "df.expiration_date = pd.to_datetime(df.expiration_date,  format='%Y%m%d', errors='ignore')\n",
    "df['expiration_date_year'] = df['expiration_date'].dt.year\n",
    "df['expiration_date_month'] = df['expiration_date'].dt.month\n",
    "df['expiration_date_day'] = df['expiration_date'].dt.day"
   ]
  },
  {
   "cell_type": "code",
   "execution_count": 10,
   "metadata": {},
   "outputs": [],
   "source": [
    "# convert into categorical values\n",
    "\n",
    "df['registration_init_time'] = df['registration_init_time'].astype('category')\n",
    "df['expiration_date'] = df['expiration_date'].astype('category')"
   ]
  },
  {
   "cell_type": "code",
   "execution_count": 11,
   "metadata": {},
   "outputs": [
    {
     "name": "stdout",
     "output_type": "stream",
     "text": [
      "msno\n",
      "song_id\n",
      "source_system_tab\n",
      "source_screen_name\n",
      "source_type\n",
      "genre_ids\n",
      "artist_name\n",
      "composer\n",
      "lyricist\n",
      "gender\n"
     ]
    }
   ],
   "source": [
    "# converting into categorcial values\n",
    "for col in df.select_dtypes(include=['object']).columns:\n",
    "    print(col)\n",
    "    #df[col] = df[col].astype('category')"
   ]
  },
  {
   "cell_type": "code",
   "execution_count": 12,
   "metadata": {},
   "outputs": [
    {
     "data": {
      "text/html": [
       "<div>\n",
       "<style scoped>\n",
       "    .dataframe tbody tr th:only-of-type {\n",
       "        vertical-align: middle;\n",
       "    }\n",
       "\n",
       "    .dataframe tbody tr th {\n",
       "        vertical-align: top;\n",
       "    }\n",
       "\n",
       "    .dataframe thead th {\n",
       "        text-align: right;\n",
       "    }\n",
       "</style>\n",
       "<table border=\"1\" class=\"dataframe\">\n",
       "  <thead>\n",
       "    <tr style=\"text-align: right;\">\n",
       "      <th></th>\n",
       "      <th>msno</th>\n",
       "      <th>song_id</th>\n",
       "      <th>source_system_tab</th>\n",
       "      <th>source_screen_name</th>\n",
       "      <th>source_type</th>\n",
       "      <th>genre_ids</th>\n",
       "      <th>artist_name</th>\n",
       "      <th>composer</th>\n",
       "      <th>lyricist</th>\n",
       "      <th>gender</th>\n",
       "    </tr>\n",
       "  </thead>\n",
       "  <tbody>\n",
       "    <tr>\n",
       "      <td>0</td>\n",
       "      <td>rTRnQS/r4ShT0b4O+MibIwdjsMkoNKVDz9ZXxS0yCYg=</td>\n",
       "      <td>qcT1nkRj//s3CGLHn2fV8LoB97q9ctGGvl93auq7Guk=</td>\n",
       "      <td>my library</td>\n",
       "      <td>Local playlist more</td>\n",
       "      <td>local-playlist</td>\n",
       "      <td>465</td>\n",
       "      <td>張韶涵 (Angela Chang)</td>\n",
       "      <td>動靜音樂</td>\n",
       "      <td>王雅君</td>\n",
       "      <td>unknown</td>\n",
       "    </tr>\n",
       "    <tr>\n",
       "      <td>1</td>\n",
       "      <td>TeQUhU/bEOd9E8tF3oQw0hvhsrexQveqY4JpjVXCHX8=</td>\n",
       "      <td>ls2DaFwqfKpflreqd5rUgWlHA+A22a5DT+NRRmUDD8I=</td>\n",
       "      <td>search</td>\n",
       "      <td>Album more</td>\n",
       "      <td>album</td>\n",
       "      <td>1259</td>\n",
       "      <td>熱狗 (MC HotDog)</td>\n",
       "      <td>姚中仁/張震嶽</td>\n",
       "      <td>姚中仁/張震嶽</td>\n",
       "      <td>unknown</td>\n",
       "    </tr>\n",
       "    <tr>\n",
       "      <td>2</td>\n",
       "      <td>gEcYF5Mb3FMPyaJeUx98WHgQOeUqOVBNdosPH8XRycg=</td>\n",
       "      <td>nBh/12CeQ3B0/CKJw/TrYHJYERGXrfixEOyd3PWBD+k=</td>\n",
       "      <td>my library</td>\n",
       "      <td>Local playlist more</td>\n",
       "      <td>local-playlist</td>\n",
       "      <td>465</td>\n",
       "      <td>林俊傑 (JJ Lin)</td>\n",
       "      <td>林俊傑</td>\n",
       "      <td>姚若龍</td>\n",
       "      <td>male</td>\n",
       "    </tr>\n",
       "    <tr>\n",
       "      <td>3</td>\n",
       "      <td>MfnqFh90tpVWsyp1YVFe03rZg8LjDIDZqKjcnmbKW/Y=</td>\n",
       "      <td>u9z+kvlYCkrSlDdJv3O/t5h+JpZJrSn2ZBI1GWe+EYQ=</td>\n",
       "      <td>my library</td>\n",
       "      <td>Local playlist more</td>\n",
       "      <td>local-library</td>\n",
       "      <td>465</td>\n",
       "      <td>Miley Cyrus</td>\n",
       "      <td>Lukasz Gottwald| Claude Kelly| Jessica Cornish</td>\n",
       "      <td>unknown</td>\n",
       "      <td>unknown</td>\n",
       "    </tr>\n",
       "    <tr>\n",
       "      <td>4</td>\n",
       "      <td>kV/O8OSpIQmicSvCuxCqFLrmt94nN9HTyAVpyxc1Nh0=</td>\n",
       "      <td>k8s6aRatZAv/w4exkA4Oa8r75gBrxG0z3CHdb9Lrexc=</td>\n",
       "      <td>search</td>\n",
       "      <td>Search</td>\n",
       "      <td>song</td>\n",
       "      <td>465</td>\n",
       "      <td>Eric 周興哲</td>\n",
       "      <td>Eric 周興哲</td>\n",
       "      <td>吳易緯</td>\n",
       "      <td>male</td>\n",
       "    </tr>\n",
       "    <tr>\n",
       "      <td>...</td>\n",
       "      <td>...</td>\n",
       "      <td>...</td>\n",
       "      <td>...</td>\n",
       "      <td>...</td>\n",
       "      <td>...</td>\n",
       "      <td>...</td>\n",
       "      <td>...</td>\n",
       "      <td>...</td>\n",
       "      <td>...</td>\n",
       "      <td>...</td>\n",
       "    </tr>\n",
       "    <tr>\n",
       "      <td>7372</td>\n",
       "      <td>0gR6Hl63ExurTrvY9uEfmgDDgRj0nBaIse0DU199YT8=</td>\n",
       "      <td>GSzkHSWmWo4vZmF5s7+w6Y5EvTv5bpOnbZsFprUc/Yg=</td>\n",
       "      <td>radio</td>\n",
       "      <td>Radio</td>\n",
       "      <td>radio</td>\n",
       "      <td>921</td>\n",
       "      <td>Que Sera Sera</td>\n",
       "      <td>unknown</td>\n",
       "      <td>unknown</td>\n",
       "      <td>female</td>\n",
       "    </tr>\n",
       "    <tr>\n",
       "      <td>7373</td>\n",
       "      <td>Vh/2q2Y+ESQfcS4bXIdraSzryn/e1EHmpjUbvx+Bt00=</td>\n",
       "      <td>FDVy0pjMHkCjuxphs2p149PfqFF92e/wlvg9MKy/rk0=</td>\n",
       "      <td>my library</td>\n",
       "      <td>Local playlist more</td>\n",
       "      <td>local-library</td>\n",
       "      <td>2022</td>\n",
       "      <td>Tizzy Bac</td>\n",
       "      <td>unknown</td>\n",
       "      <td>unknown</td>\n",
       "      <td>unknown</td>\n",
       "    </tr>\n",
       "    <tr>\n",
       "      <td>7374</td>\n",
       "      <td>iduk/8d4HbpKuYf+4SzifkoHpzmeDcW9yCnaZEkxdh8=</td>\n",
       "      <td>7pVp4DvikAFHXWFmws+GYnsrKzWI/EUccAy1apWJTXM=</td>\n",
       "      <td>radio</td>\n",
       "      <td>Radio</td>\n",
       "      <td>radio</td>\n",
       "      <td>465</td>\n",
       "      <td>劉彥羣</td>\n",
       "      <td>劉彥羣</td>\n",
       "      <td>劉彥羣</td>\n",
       "      <td>unknown</td>\n",
       "    </tr>\n",
       "    <tr>\n",
       "      <td>7375</td>\n",
       "      <td>aw0F3odb6ETJ5LtklT7Ag2b9HiCdidrRVkN7bbJLx3I=</td>\n",
       "      <td>OAIBxekYEb8alz8SDpozofgTf5qL3nozyuHJPvjr9QU=</td>\n",
       "      <td>my library</td>\n",
       "      <td>Local playlist more</td>\n",
       "      <td>local-library</td>\n",
       "      <td>458</td>\n",
       "      <td>林志炫 (Terry Lin)</td>\n",
       "      <td>Yao-Chuan Chen</td>\n",
       "      <td>Jia-Yang Yi</td>\n",
       "      <td>unknown</td>\n",
       "    </tr>\n",
       "    <tr>\n",
       "      <td>7376</td>\n",
       "      <td>S7CMolTRHVHHR+/zXLtRsuk3Ko5RSYM2rbl6Yj+WjXg=</td>\n",
       "      <td>lhrN5Q069mAF35yPS+P4Rk1c1L4jhrAt3T2UjvT8yXc=</td>\n",
       "      <td>listen with</td>\n",
       "      <td>Others profile more</td>\n",
       "      <td>listen-with</td>\n",
       "      <td>465</td>\n",
       "      <td>Rihanna</td>\n",
       "      <td>Crystal Johnson| Mikkel S. Eriksen| Tor Erik H...</td>\n",
       "      <td>unknown</td>\n",
       "      <td>male</td>\n",
       "    </tr>\n",
       "  </tbody>\n",
       "</table>\n",
       "<p>7377 rows × 10 columns</p>\n",
       "</div>"
      ],
      "text/plain": [
       "                                              msno  \\\n",
       "0     rTRnQS/r4ShT0b4O+MibIwdjsMkoNKVDz9ZXxS0yCYg=   \n",
       "1     TeQUhU/bEOd9E8tF3oQw0hvhsrexQveqY4JpjVXCHX8=   \n",
       "2     gEcYF5Mb3FMPyaJeUx98WHgQOeUqOVBNdosPH8XRycg=   \n",
       "3     MfnqFh90tpVWsyp1YVFe03rZg8LjDIDZqKjcnmbKW/Y=   \n",
       "4     kV/O8OSpIQmicSvCuxCqFLrmt94nN9HTyAVpyxc1Nh0=   \n",
       "...                                            ...   \n",
       "7372  0gR6Hl63ExurTrvY9uEfmgDDgRj0nBaIse0DU199YT8=   \n",
       "7373  Vh/2q2Y+ESQfcS4bXIdraSzryn/e1EHmpjUbvx+Bt00=   \n",
       "7374  iduk/8d4HbpKuYf+4SzifkoHpzmeDcW9yCnaZEkxdh8=   \n",
       "7375  aw0F3odb6ETJ5LtklT7Ag2b9HiCdidrRVkN7bbJLx3I=   \n",
       "7376  S7CMolTRHVHHR+/zXLtRsuk3Ko5RSYM2rbl6Yj+WjXg=   \n",
       "\n",
       "                                           song_id source_system_tab  \\\n",
       "0     qcT1nkRj//s3CGLHn2fV8LoB97q9ctGGvl93auq7Guk=        my library   \n",
       "1     ls2DaFwqfKpflreqd5rUgWlHA+A22a5DT+NRRmUDD8I=            search   \n",
       "2     nBh/12CeQ3B0/CKJw/TrYHJYERGXrfixEOyd3PWBD+k=        my library   \n",
       "3     u9z+kvlYCkrSlDdJv3O/t5h+JpZJrSn2ZBI1GWe+EYQ=        my library   \n",
       "4     k8s6aRatZAv/w4exkA4Oa8r75gBrxG0z3CHdb9Lrexc=            search   \n",
       "...                                            ...               ...   \n",
       "7372  GSzkHSWmWo4vZmF5s7+w6Y5EvTv5bpOnbZsFprUc/Yg=             radio   \n",
       "7373  FDVy0pjMHkCjuxphs2p149PfqFF92e/wlvg9MKy/rk0=        my library   \n",
       "7374  7pVp4DvikAFHXWFmws+GYnsrKzWI/EUccAy1apWJTXM=             radio   \n",
       "7375  OAIBxekYEb8alz8SDpozofgTf5qL3nozyuHJPvjr9QU=        my library   \n",
       "7376  lhrN5Q069mAF35yPS+P4Rk1c1L4jhrAt3T2UjvT8yXc=       listen with   \n",
       "\n",
       "       source_screen_name     source_type genre_ids         artist_name  \\\n",
       "0     Local playlist more  local-playlist       465  張韶涵 (Angela Chang)   \n",
       "1              Album more           album      1259      熱狗 (MC HotDog)   \n",
       "2     Local playlist more  local-playlist       465        林俊傑 (JJ Lin)   \n",
       "3     Local playlist more   local-library       465         Miley Cyrus   \n",
       "4                  Search            song       465            Eric 周興哲   \n",
       "...                   ...             ...       ...                 ...   \n",
       "7372                Radio           radio       921       Que Sera Sera   \n",
       "7373  Local playlist more   local-library      2022           Tizzy Bac   \n",
       "7374                Radio           radio       465                 劉彥羣   \n",
       "7375  Local playlist more   local-library       458     林志炫 (Terry Lin)   \n",
       "7376  Others profile more     listen-with       465             Rihanna   \n",
       "\n",
       "                                               composer     lyricist   gender  \n",
       "0                                                  動靜音樂          王雅君  unknown  \n",
       "1                                               姚中仁/張震嶽      姚中仁/張震嶽  unknown  \n",
       "2                                                   林俊傑          姚若龍     male  \n",
       "3        Lukasz Gottwald| Claude Kelly| Jessica Cornish      unknown  unknown  \n",
       "4                                              Eric 周興哲          吳易緯     male  \n",
       "...                                                 ...          ...      ...  \n",
       "7372                                            unknown      unknown   female  \n",
       "7373                                            unknown      unknown  unknown  \n",
       "7374                                                劉彥羣          劉彥羣  unknown  \n",
       "7375                                     Yao-Chuan Chen  Jia-Yang Yi  unknown  \n",
       "7376  Crystal Johnson| Mikkel S. Eriksen| Tor Erik H...      unknown     male  \n",
       "\n",
       "[7377 rows x 10 columns]"
      ]
     },
     "execution_count": 12,
     "metadata": {},
     "output_type": "execute_result"
    }
   ],
   "source": [
    "df.select_dtypes(include=['object'])"
   ]
  },
  {
   "cell_type": "code",
   "execution_count": 13,
   "metadata": {},
   "outputs": [],
   "source": [
    "# converting into categorcial values\n",
    "for col in df.select_dtypes(include=['object']).columns:\n",
    "    df[col] = df[col].astype('category')"
   ]
  },
  {
   "cell_type": "code",
   "execution_count": 14,
   "metadata": {},
   "outputs": [],
   "source": [
    "# encoding of categorical values\n",
    "for col in df.select_dtypes(include=['category']).columns:\n",
    "    df[col] = df[col].cat.codes\n",
    "df = df.drop(['expiration_date', 'lyricist'], 1)"
   ]
  },
  {
   "cell_type": "markdown",
   "metadata": {},
   "source": [
    "# Data dimension reduction"
   ]
  },
  {
   "cell_type": "code",
   "execution_count": 15,
   "metadata": {},
   "outputs": [
    {
     "data": {
      "text/plain": [
       "PCA(copy=True, iterated_power='auto', n_components=2, random_state=None,\n",
       "    svd_solver='auto', tol=0.0, whiten=False)"
      ]
     },
     "execution_count": 15,
     "metadata": {},
     "output_type": "execute_result"
    }
   ],
   "source": [
    "#implementing PCA\n",
    "\n",
    "import numpy as np\n",
    "from sklearn.decomposition import PCA\n",
    "\n",
    "pca = PCA(n_components=2)\n",
    "pca.fit(df[df.columns[df.columns != 'target']])"
   ]
  },
  {
   "cell_type": "markdown",
   "metadata": {},
   "source": [
    "# Training via SVM"
   ]
  },
  {
   "cell_type": "code",
   "execution_count": 16,
   "metadata": {},
   "outputs": [
    {
     "data": {
      "text/plain": [
       "SVC(C=1.0, cache_size=200, class_weight=None, coef0=0.0,\n",
       "    decision_function_shape='ovr', degree=3, gamma='auto_deprecated',\n",
       "    kernel='rbf', max_iter=-1, probability=False, random_state=None,\n",
       "    shrinking=True, tol=0.001, verbose=False)"
      ]
     },
     "execution_count": 16,
     "metadata": {},
     "output_type": "execute_result"
    }
   ],
   "source": [
    "# Model with the best estimator\n",
    "model = svm.SVC()\n",
    "model.fit(df[df.columns[df.columns != 'target']], df.target)"
   ]
  },
  {
   "cell_type": "code",
   "execution_count": 17,
   "metadata": {},
   "outputs": [],
   "source": [
    "from sklearn.model_selection import KFold\n",
    "kf = KFold(n_splits=3)\n",
    "\n",
    "model = svm.SVC()\n",
    "for train_indices,val_indices in kf.split(df) :\n",
    "    model.fit(df.drop(['target'],axis=1).loc[train_indices,:],df.loc[train_indices,'target'])"
   ]
  },
  {
   "cell_type": "code",
   "execution_count": 18,
   "metadata": {},
   "outputs": [],
   "source": [
    "X_array=df['target'].values"
   ]
  },
  {
   "cell_type": "code",
   "execution_count": 19,
   "metadata": {},
   "outputs": [
    {
     "data": {
      "text/plain": [
       "0.8236410464958656"
      ]
     },
     "execution_count": 19,
     "metadata": {},
     "output_type": "execute_result"
    }
   ],
   "source": [
    "model.score(df[df.columns[df.columns != 'target']], df.target)"
   ]
  },
  {
   "cell_type": "markdown",
   "metadata": {},
   "source": [
    "# Data preprocessing for Testing set"
   ]
  },
  {
   "cell_type": "code",
   "execution_count": 20,
   "metadata": {},
   "outputs": [],
   "source": [
    "df_test=pd.read_csv('test.csv')\n",
    "\n",
    "songs = pd.read_csv('songs.csv')\n",
    "df_test = pd.merge(df_test, songs, on='song_id', how='left')\n",
    "del songs\n",
    "\n",
    "# Load and join songs data\n",
    "members = pd.read_csv('members.csv')\n",
    "df_test = pd.merge(df_test, members, on='msno', how='left')\n",
    "del members\n",
    "\n",
    "df_test.isnull().sum()/df_test.isnull().count()*100\n",
    "\n",
    "#replace NA\n",
    "for i in df_test.select_dtypes(include=['object']).columns:\n",
    "    df_test[i][df_test[i].isnull()] = 'unknown'\n",
    "df_test = df_test.fillna(value=0)\n",
    "\n",
    "df_test.registration_init_time = pd.to_datetime(df_test.registration_init_time, format='%Y%m%d', errors='ignore')\n",
    "df_test['registration_init_time_year'] = df_test['registration_init_time'].dt.year\n",
    "df_test['registration_init_time_month'] = df_test['registration_init_time'].dt.month\n",
    "df_test['registration_init_time_day'] = df_test['registration_init_time'].dt.day\n",
    "\n",
    "# expiration_date\n",
    "df_test.expiration_date = pd.to_datetime(df_test.expiration_date,  format='%Y%m%d', errors='ignore')\n",
    "df_test['expiration_date_year'] = df_test['expiration_date'].dt.year\n",
    "df_test['expiration_date_month'] = df_test['expiration_date'].dt.month\n",
    "df_test['expiration_date_day'] = df_test['expiration_date'].dt.day\n",
    "\n",
    "df_test['registration_init_time'] = df_test['registration_init_time'].astype('category')\n",
    "df_test['expiration_date'] = df_test['expiration_date'].astype('category')\n",
    "\n",
    "# Object data to category\n",
    "for col in df_test.select_dtypes(include=['object']).columns:\n",
    "    df_test[col] = df_test[col].astype('category')\n",
    "    \n",
    "# Encoding categorical features\n",
    "for col in df_test.select_dtypes(include=['category']).columns:\n",
    "    df_test[col] = df_test[col].cat.codes"
   ]
  },
  {
   "cell_type": "code",
   "execution_count": 21,
   "metadata": {},
   "outputs": [],
   "source": [
    "df_test = df_test.drop(['expiration_date', 'lyricist'], 1)"
   ]
  },
  {
   "cell_type": "code",
   "execution_count": 22,
   "metadata": {},
   "outputs": [],
   "source": [
    "predictions=np.zeros(shape=[len(df_test)])\n",
    "predictions+=model.predict(df_test.drop(['id'],axis=1))"
   ]
  },
  {
   "cell_type": "code",
   "execution_count": 23,
   "metadata": {},
   "outputs": [],
   "source": [
    "predictions = predictions/3\n",
    "\n",
    "submission = pd.read_csv('sample_submission.csv')\n",
    "\n",
    "submission.target=predictions\n",
    "submission.to_csv('svm.csv',index=False)"
   ]
  },
  {
   "cell_type": "code",
   "execution_count": 24,
   "metadata": {},
   "outputs": [],
   "source": [
    "length=df['target'].count()\n",
    "split=0.3\n",
    "test=df[int(length*(1-split)):length]\n",
    "df=df[0:int(length*(1-split))]"
   ]
  },
  {
   "cell_type": "markdown",
   "metadata": {},
   "source": [
    "# Results"
   ]
  },
  {
   "cell_type": "code",
   "execution_count": 26,
   "metadata": {},
   "outputs": [
    {
     "data": {
      "image/png": "[encoded data removed]",
      "text/plain": [
       "<Figure size 432x288 with 1 Axes>"
      ]
     },
     "metadata": {
      "needs_background": "light"
     },
     "output_type": "display_data"
    }
   ],
   "source": [
    "from random import randint\n",
    "import matplotlib.pyplot as plt\n",
    "from sklearn import metrics\n",
    "from sklearn.metrics import roc_curve, auc\n",
    "X_test = test.drop(['target'], axis=1)\n",
    "predictions_roc = model.predict(X_test)\n",
    "x=[randint(0,1) for p in range(0,2214)]\n",
    "fpr, tpr, thresholds = roc_curve(test['target'], x)\n",
    "roc_auc = auc(fpr, tpr)\n",
    "roc_auc\n",
    "plt.plot(fpr,tpr)\n",
    "plt.show()"
   ]
  },
  {
   "cell_type": "code",
   "execution_count": 27,
   "metadata": {},
   "outputs": [
    {
     "data": {
      "text/plain": [
       "0.526396878828726"
      ]
     },
     "execution_count": 27,
     "metadata": {},
     "output_type": "execute_result"
    }
   ],
   "source": [
    "roc_auc"
   ]
  },
  {
   "cell_type": "code",
   "execution_count": 28,
   "metadata": {},
   "outputs": [],
   "source": [
    "X_array=test['target'].values"
   ]
  },
  {
   "cell_type": "code",
   "execution_count": 29,
   "metadata": {},
   "outputs": [
    {
     "name": "stdout",
     "output_type": "stream",
     "text": [
      "              precision    recall  f1-score   support\n",
      "\n",
      "     class 0       0.47      1.00      0.64      1047\n",
      "      class1       0.00      0.00      0.00      1167\n",
      "\n",
      "    accuracy                           0.47      2214\n",
      "   macro avg       0.24      0.50      0.32      2214\n",
      "weighted avg       0.22      0.47      0.30      2214\n",
      "\n"
     ]
    }
   ],
   "source": [
    "from sklearn.metrics import classification_report\n",
    "target_names=['class 0','class1']\n",
    "print(classification_report(X_array,predictions_roc,target_names=target_names))"
   ]
  },
  {
   "cell_type": "code",
   "execution_count": null,
   "metadata": {},
   "outputs": [],
   "source": []
  },
  {
   "cell_type": "code",
   "execution_count": null,
   "metadata": {},
   "outputs": [],
   "source": []
  }
 ],
 "metadata": {
  "kernelspec": {
   "display_name": "Python 3",
   "language": "python",
   "name": "python3"
  },
  "language_info": {
   "codemirror_mode": {
    "name": "ipython",
    "version": 3
   },
   "file_extension": ".py",
   "mimetype": "text/x-python",
   "name": "python",
   "nbconvert_exporter": "python",
   "pygments_lexer": "ipython3",
   "version": "3.7.4"
  }
 },
 "nbformat": 4,
 "nbformat_minor": 2
}
